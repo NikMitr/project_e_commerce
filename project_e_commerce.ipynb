{
 "cells": [
  {
   "cell_type": "markdown",
   "metadata": {},
   "source": [
    "# Проект e-commerce: вариант 1 "
   ]
  },
  {
   "cell_type": "markdown",
   "metadata": {},
   "source": [
    "**`Вопросы:`**\n",
    "1. Сколько у нас пользователей, которые совершили покупку только один раз? \n",
    " \n",
    " \n",
    "2. Сколько заказов в месяц в среднем не доставляется по разным причинам (вывести детализацию по причинам)? \n",
    "\n",
    "\n",
    "3. По каждому товару определить, в какой день недели товар чаще всего покупается. \n",
    "\n",
    "\n",
    "4. Сколько у каждого из пользователей в среднем покупок в неделю (по месяцам)?  \n",
    "\n",
    "\n",
    "5. 1 Выполните когортный анализ пользователей.\n",
    "\n",
    ".\n",
    "5. 2 В период с января по декабрь выявите когорту с самым высоким retention на 3-й месяц.\n",
    "\n",
    "\n",
    "6. Построй RFM-сегментацию пользователей. В кластеризации можешь выбрать следующие метрики: R - время от последней покупки пользователя до текущей даты, F - суммарное количество покупок у пользователя за всё время, M - сумма покупок за всё время. Подробно опиши, как ты создавал кластеры. Для каждого RFM-сегмента построй границы метрик recency, frequency и monetary для интерпретации этих кластеров. "
   ]
  },
  {
   "cell_type": "markdown",
   "metadata": {},
   "source": [
    "# ---------------------------------------------------------------------------------------------------------------"
   ]
  },
  {
   "cell_type": "code",
   "execution_count": 1,
   "metadata": {},
   "outputs": [],
   "source": [
    "# Импорт нужных библиотек\n",
    "import pandas as pd \n",
    "import seaborn as sns\n",
    "import matplotlib.pyplot as plt"
   ]
  },
  {
   "cell_type": "markdown",
   "metadata": {},
   "source": [
    "Для начала загрузим данные и убедимся, что всё считалось правильно"
   ]
  },
  {
   "cell_type": "code",
   "execution_count": 2,
   "metadata": {},
   "outputs": [],
   "source": [
    "# Загрузка нужных ДатаФреймов\n",
    "df_customers = pd.read_csv('/mnt/HC_Volume_18315164/home-jupyter/jupyter-n-mitruschenkov/5_FIRST_PROJECT/olist_customers_dataset.csv')\n",
    "df_orders    = pd.read_csv('/mnt/HC_Volume_18315164/home-jupyter/jupyter-n-mitruschenkov/5_FIRST_PROJECT/olist_orders_dataset.csv')\n",
    "df_items     = pd.read_csv('/mnt/HC_Volume_18315164/home-jupyter/jupyter-n-mitruschenkov/5_FIRST_PROJECT/olist_order_items_dataset.csv')"
   ]
  },
  {
   "cell_type": "markdown",
   "metadata": {},
   "source": [
    "### customers - таблица с уникальными идентификаторами пользователей "
   ]
  },
  {
   "cell_type": "code",
   "execution_count": 3,
   "metadata": {},
   "outputs": [
    {
     "data": {
      "text/html": [
       "<div>\n",
       "<style scoped>\n",
       "    .dataframe tbody tr th:only-of-type {\n",
       "        vertical-align: middle;\n",
       "    }\n",
       "\n",
       "    .dataframe tbody tr th {\n",
       "        vertical-align: top;\n",
       "    }\n",
       "\n",
       "    .dataframe thead th {\n",
       "        text-align: right;\n",
       "    }\n",
       "</style>\n",
       "<table border=\"1\" class=\"dataframe\">\n",
       "  <thead>\n",
       "    <tr style=\"text-align: right;\">\n",
       "      <th></th>\n",
       "      <th>customer_id</th>\n",
       "      <th>customer_unique_id</th>\n",
       "      <th>customer_zip_code_prefix</th>\n",
       "      <th>customer_city</th>\n",
       "      <th>customer_state</th>\n",
       "    </tr>\n",
       "  </thead>\n",
       "  <tbody>\n",
       "    <tr>\n",
       "      <th>0</th>\n",
       "      <td>06b8999e2fba1a1fbc88172c00ba8bc7</td>\n",
       "      <td>861eff4711a542e4b93843c6dd7febb0</td>\n",
       "      <td>14409</td>\n",
       "      <td>franca</td>\n",
       "      <td>SP</td>\n",
       "    </tr>\n",
       "    <tr>\n",
       "      <th>1</th>\n",
       "      <td>18955e83d337fd6b2def6b18a428ac77</td>\n",
       "      <td>290c77bc529b7ac935b93aa66c333dc3</td>\n",
       "      <td>9790</td>\n",
       "      <td>sao bernardo do campo</td>\n",
       "      <td>SP</td>\n",
       "    </tr>\n",
       "    <tr>\n",
       "      <th>2</th>\n",
       "      <td>4e7b3e00288586ebd08712fdd0374a03</td>\n",
       "      <td>060e732b5b29e8181a18229c7b0b2b5e</td>\n",
       "      <td>1151</td>\n",
       "      <td>sao paulo</td>\n",
       "      <td>SP</td>\n",
       "    </tr>\n",
       "    <tr>\n",
       "      <th>3</th>\n",
       "      <td>b2b6027bc5c5109e529d4dc6358b12c3</td>\n",
       "      <td>259dac757896d24d7702b9acbbff3f3c</td>\n",
       "      <td>8775</td>\n",
       "      <td>mogi das cruzes</td>\n",
       "      <td>SP</td>\n",
       "    </tr>\n",
       "    <tr>\n",
       "      <th>4</th>\n",
       "      <td>4f2d8ab171c80ec8364f7c12e35b23ad</td>\n",
       "      <td>345ecd01c38d18a9036ed96c73b8d066</td>\n",
       "      <td>13056</td>\n",
       "      <td>campinas</td>\n",
       "      <td>SP</td>\n",
       "    </tr>\n",
       "  </tbody>\n",
       "</table>\n",
       "</div>"
      ],
      "text/plain": [
       "                        customer_id                customer_unique_id  \\\n",
       "0  06b8999e2fba1a1fbc88172c00ba8bc7  861eff4711a542e4b93843c6dd7febb0   \n",
       "1  18955e83d337fd6b2def6b18a428ac77  290c77bc529b7ac935b93aa66c333dc3   \n",
       "2  4e7b3e00288586ebd08712fdd0374a03  060e732b5b29e8181a18229c7b0b2b5e   \n",
       "3  b2b6027bc5c5109e529d4dc6358b12c3  259dac757896d24d7702b9acbbff3f3c   \n",
       "4  4f2d8ab171c80ec8364f7c12e35b23ad  345ecd01c38d18a9036ed96c73b8d066   \n",
       "\n",
       "   customer_zip_code_prefix          customer_city customer_state  \n",
       "0                     14409                 franca             SP  \n",
       "1                      9790  sao bernardo do campo             SP  \n",
       "2                      1151              sao paulo             SP  \n",
       "3                      8775        mogi das cruzes             SP  \n",
       "4                     13056               campinas             SP  "
      ]
     },
     "execution_count": 3,
     "metadata": {},
     "output_type": "execute_result"
    }
   ],
   "source": [
    "df_customers.head(5)  "
   ]
  },
  {
   "cell_type": "markdown",
   "metadata": {},
   "source": [
    "customer_id — позаказный идентификатор пользователя\n",
    "\n",
    "customer_unique_id —  уникальный идентификатор пользователя  (аналог номера паспорта)\n",
    "\n",
    "customer_zip_code_prefix —  почтовый индекс пользователя\n",
    "\n",
    "customer_city —  город доставки пользователя\n",
    "\n",
    "customer_state —  штат доставки пользователя"
   ]
  },
  {
   "cell_type": "code",
   "execution_count": 4,
   "metadata": {},
   "outputs": [
    {
     "data": {
      "text/plain": [
       "(99441, 5)"
      ]
     },
     "execution_count": 4,
     "metadata": {},
     "output_type": "execute_result"
    }
   ],
   "source": [
    "# Проверка количества строк и столбов \n",
    "df_customers.shape"
   ]
  },
  {
   "cell_type": "code",
   "execution_count": 5,
   "metadata": {},
   "outputs": [
    {
     "data": {
      "text/plain": [
       "customer_id                 object\n",
       "customer_unique_id          object\n",
       "customer_zip_code_prefix     int64\n",
       "customer_city               object\n",
       "customer_state              object\n",
       "dtype: object"
      ]
     },
     "execution_count": 5,
     "metadata": {},
     "output_type": "execute_result"
    }
   ],
   "source": [
    "# Проверка типов данных\n",
    "df_customers.dtypes"
   ]
  },
  {
   "cell_type": "code",
   "execution_count": 6,
   "metadata": {},
   "outputs": [
    {
     "data": {
      "text/plain": [
       "customer_id                 0\n",
       "customer_unique_id          0\n",
       "customer_zip_code_prefix    0\n",
       "customer_city               0\n",
       "customer_state              0\n",
       "dtype: int64"
      ]
     },
     "execution_count": 6,
     "metadata": {},
     "output_type": "execute_result"
    }
   ],
   "source": [
    "# Проверка отсутствующих значений\n",
    "df_customers.isnull().sum()"
   ]
  },
  {
   "cell_type": "code",
   "execution_count": 7,
   "metadata": {},
   "outputs": [
    {
     "data": {
      "text/plain": [
       "0"
      ]
     },
     "execution_count": 7,
     "metadata": {},
     "output_type": "execute_result"
    }
   ],
   "source": [
    "# Проверка дубликатов\n",
    "df_customers.duplicated().sum()"
   ]
  },
  {
   "cell_type": "markdown",
   "metadata": {},
   "source": [
    "###  orders - таблица заказов "
   ]
  },
  {
   "cell_type": "code",
   "execution_count": 8,
   "metadata": {},
   "outputs": [
    {
     "data": {
      "text/html": [
       "<div>\n",
       "<style scoped>\n",
       "    .dataframe tbody tr th:only-of-type {\n",
       "        vertical-align: middle;\n",
       "    }\n",
       "\n",
       "    .dataframe tbody tr th {\n",
       "        vertical-align: top;\n",
       "    }\n",
       "\n",
       "    .dataframe thead th {\n",
       "        text-align: right;\n",
       "    }\n",
       "</style>\n",
       "<table border=\"1\" class=\"dataframe\">\n",
       "  <thead>\n",
       "    <tr style=\"text-align: right;\">\n",
       "      <th></th>\n",
       "      <th>order_id</th>\n",
       "      <th>customer_id</th>\n",
       "      <th>order_status</th>\n",
       "      <th>order_purchase_timestamp</th>\n",
       "      <th>order_approved_at</th>\n",
       "      <th>order_delivered_carrier_date</th>\n",
       "      <th>order_delivered_customer_date</th>\n",
       "      <th>order_estimated_delivery_date</th>\n",
       "    </tr>\n",
       "  </thead>\n",
       "  <tbody>\n",
       "    <tr>\n",
       "      <th>0</th>\n",
       "      <td>e481f51cbdc54678b7cc49136f2d6af7</td>\n",
       "      <td>9ef432eb6251297304e76186b10a928d</td>\n",
       "      <td>delivered</td>\n",
       "      <td>2017-10-02 10:56:33</td>\n",
       "      <td>2017-10-02 11:07:15</td>\n",
       "      <td>2017-10-04 19:55:00</td>\n",
       "      <td>2017-10-10 21:25:13</td>\n",
       "      <td>2017-10-18 00:00:00</td>\n",
       "    </tr>\n",
       "    <tr>\n",
       "      <th>1</th>\n",
       "      <td>53cdb2fc8bc7dce0b6741e2150273451</td>\n",
       "      <td>b0830fb4747a6c6d20dea0b8c802d7ef</td>\n",
       "      <td>delivered</td>\n",
       "      <td>2018-07-24 20:41:37</td>\n",
       "      <td>2018-07-26 03:24:27</td>\n",
       "      <td>2018-07-26 14:31:00</td>\n",
       "      <td>2018-08-07 15:27:45</td>\n",
       "      <td>2018-08-13 00:00:00</td>\n",
       "    </tr>\n",
       "    <tr>\n",
       "      <th>2</th>\n",
       "      <td>47770eb9100c2d0c44946d9cf07ec65d</td>\n",
       "      <td>41ce2a54c0b03bf3443c3d931a367089</td>\n",
       "      <td>delivered</td>\n",
       "      <td>2018-08-08 08:38:49</td>\n",
       "      <td>2018-08-08 08:55:23</td>\n",
       "      <td>2018-08-08 13:50:00</td>\n",
       "      <td>2018-08-17 18:06:29</td>\n",
       "      <td>2018-09-04 00:00:00</td>\n",
       "    </tr>\n",
       "    <tr>\n",
       "      <th>3</th>\n",
       "      <td>949d5b44dbf5de918fe9c16f97b45f8a</td>\n",
       "      <td>f88197465ea7920adcdbec7375364d82</td>\n",
       "      <td>delivered</td>\n",
       "      <td>2017-11-18 19:28:06</td>\n",
       "      <td>2017-11-18 19:45:59</td>\n",
       "      <td>2017-11-22 13:39:59</td>\n",
       "      <td>2017-12-02 00:28:42</td>\n",
       "      <td>2017-12-15 00:00:00</td>\n",
       "    </tr>\n",
       "    <tr>\n",
       "      <th>4</th>\n",
       "      <td>ad21c59c0840e6cb83a9ceb5573f8159</td>\n",
       "      <td>8ab97904e6daea8866dbdbc4fb7aad2c</td>\n",
       "      <td>delivered</td>\n",
       "      <td>2018-02-13 21:18:39</td>\n",
       "      <td>2018-02-13 22:20:29</td>\n",
       "      <td>2018-02-14 19:46:34</td>\n",
       "      <td>2018-02-16 18:17:02</td>\n",
       "      <td>2018-02-26 00:00:00</td>\n",
       "    </tr>\n",
       "  </tbody>\n",
       "</table>\n",
       "</div>"
      ],
      "text/plain": [
       "                           order_id                       customer_id  \\\n",
       "0  e481f51cbdc54678b7cc49136f2d6af7  9ef432eb6251297304e76186b10a928d   \n",
       "1  53cdb2fc8bc7dce0b6741e2150273451  b0830fb4747a6c6d20dea0b8c802d7ef   \n",
       "2  47770eb9100c2d0c44946d9cf07ec65d  41ce2a54c0b03bf3443c3d931a367089   \n",
       "3  949d5b44dbf5de918fe9c16f97b45f8a  f88197465ea7920adcdbec7375364d82   \n",
       "4  ad21c59c0840e6cb83a9ceb5573f8159  8ab97904e6daea8866dbdbc4fb7aad2c   \n",
       "\n",
       "  order_status order_purchase_timestamp    order_approved_at  \\\n",
       "0    delivered      2017-10-02 10:56:33  2017-10-02 11:07:15   \n",
       "1    delivered      2018-07-24 20:41:37  2018-07-26 03:24:27   \n",
       "2    delivered      2018-08-08 08:38:49  2018-08-08 08:55:23   \n",
       "3    delivered      2017-11-18 19:28:06  2017-11-18 19:45:59   \n",
       "4    delivered      2018-02-13 21:18:39  2018-02-13 22:20:29   \n",
       "\n",
       "  order_delivered_carrier_date order_delivered_customer_date  \\\n",
       "0          2017-10-04 19:55:00           2017-10-10 21:25:13   \n",
       "1          2018-07-26 14:31:00           2018-08-07 15:27:45   \n",
       "2          2018-08-08 13:50:00           2018-08-17 18:06:29   \n",
       "3          2017-11-22 13:39:59           2017-12-02 00:28:42   \n",
       "4          2018-02-14 19:46:34           2018-02-16 18:17:02   \n",
       "\n",
       "  order_estimated_delivery_date  \n",
       "0           2017-10-18 00:00:00  \n",
       "1           2018-08-13 00:00:00  \n",
       "2           2018-09-04 00:00:00  \n",
       "3           2017-12-15 00:00:00  \n",
       "4           2018-02-26 00:00:00  "
      ]
     },
     "execution_count": 8,
     "metadata": {},
     "output_type": "execute_result"
    }
   ],
   "source": [
    "df_orders.head(5)"
   ]
  },
  {
   "cell_type": "markdown",
   "metadata": {},
   "source": [
    "order_id —  уникальный идентификатор заказа (номер чека)\n",
    "\n",
    "customer_id —  позаказный идентификатор пользователя\n",
    "\n",
    "order_status —  статус заказа\n",
    "\n",
    "order_purchase_timestamp —  время создания заказа\n",
    "\n",
    "order_approved_at —  время подтверждения оплаты заказа\n",
    "\n",
    "order_delivered_carrier_date —  время передачи заказа в логистическую службу\n",
    "\n",
    "order_delivered_customer_date —  время доставки заказа\n",
    "\n",
    "order_estimated_delivery_date —  обещанная дата доставки"
   ]
  },
  {
   "cell_type": "code",
   "execution_count": 9,
   "metadata": {},
   "outputs": [
    {
     "data": {
      "text/plain": [
       "(99441, 8)"
      ]
     },
     "execution_count": 9,
     "metadata": {},
     "output_type": "execute_result"
    }
   ],
   "source": [
    "# Проверка количества строк и столбов \n",
    "df_orders .shape"
   ]
  },
  {
   "cell_type": "code",
   "execution_count": 10,
   "metadata": {},
   "outputs": [
    {
     "data": {
      "text/plain": [
       "order_id                         object\n",
       "customer_id                      object\n",
       "order_status                     object\n",
       "order_purchase_timestamp         object\n",
       "order_approved_at                object\n",
       "order_delivered_carrier_date     object\n",
       "order_delivered_customer_date    object\n",
       "order_estimated_delivery_date    object\n",
       "dtype: object"
      ]
     },
     "execution_count": 10,
     "metadata": {},
     "output_type": "execute_result"
    }
   ],
   "source": [
    "# Проверка типов данных\n",
    "df_orders .dtypes"
   ]
  },
  {
   "cell_type": "code",
   "execution_count": 160,
   "metadata": {},
   "outputs": [],
   "source": [
    "# Некоторые столбцы имеют неправильный тип данных, так как в них расположены даты:\n",
    "# order_purchase_timestamp         object\n",
    "# order_approved_at                object\n",
    "# order_delivered_carrier_date     object\n",
    "# order_delivered_customer_date    object\n",
    "# order_estimated_delivery_date    object"
   ]
  },
  {
   "cell_type": "code",
   "execution_count": 11,
   "metadata": {},
   "outputs": [],
   "source": [
    "# Преобразование столбцов в тип данных 'datetime'\n",
    "df_orders[['order_purchase_timestamp', \n",
    "           'order_approved_at', \n",
    "           'order_delivered_carrier_date', \n",
    "           'order_delivered_customer_date', \n",
    "           'order_estimated_delivery_date']] = df_orders[['order_purchase_timestamp', \n",
    "                                                          'order_approved_at', 'order_delivered_carrier_date', \n",
    "                                                          'order_delivered_customer_date', \n",
    "                                                          'order_estimated_delivery_date']].apply(pd.to_datetime)"
   ]
  },
  {
   "cell_type": "code",
   "execution_count": 12,
   "metadata": {},
   "outputs": [
    {
     "data": {
      "text/plain": [
       "order_id                            0\n",
       "customer_id                         0\n",
       "order_status                        0\n",
       "order_purchase_timestamp            0\n",
       "order_approved_at                 160\n",
       "order_delivered_carrier_date     1783\n",
       "order_delivered_customer_date    2965\n",
       "order_estimated_delivery_date       0\n",
       "dtype: int64"
      ]
     },
     "execution_count": 12,
     "metadata": {},
     "output_type": "execute_result"
    }
   ],
   "source": [
    "# Проверка отсутствующих значений\n",
    "df_orders.isnull().sum()"
   ]
  },
  {
   "cell_type": "code",
   "execution_count": null,
   "metadata": {},
   "outputs": [],
   "source": [
    "# Как мы можем заметить в данном ДатаФрейме присутствуют пропущенные значения, и их количество увеличивается с каждым \n",
    "# столбцом, начиная с 'order_approved_at'. Это может быть вызвано различными причинами: техническим сбоем, неправильными \n",
    "# обновлениями или объединением  данных и т. д. Также возможно, что доставка стала недоступной(unavailable) или была \n",
    "# отменена(canceled) из-за статусов заказов в таблице, что привело  к отсутствию значений в разные моменты времени.\n",
    "# Поэтому пока нельзя делать точные выводы."
   ]
  },
  {
   "cell_type": "code",
   "execution_count": 13,
   "metadata": {},
   "outputs": [
    {
     "data": {
      "text/plain": [
       "0"
      ]
     },
     "execution_count": 13,
     "metadata": {},
     "output_type": "execute_result"
    }
   ],
   "source": [
    "# Проверка дубликатов\n",
    "df_orders.duplicated().sum()"
   ]
  },
  {
   "cell_type": "markdown",
   "metadata": {},
   "source": [
    "### items - товарные позиции, входящие в заказы  "
   ]
  },
  {
   "cell_type": "code",
   "execution_count": 16,
   "metadata": {},
   "outputs": [
    {
     "data": {
      "text/html": [
       "<div>\n",
       "<style scoped>\n",
       "    .dataframe tbody tr th:only-of-type {\n",
       "        vertical-align: middle;\n",
       "    }\n",
       "\n",
       "    .dataframe tbody tr th {\n",
       "        vertical-align: top;\n",
       "    }\n",
       "\n",
       "    .dataframe thead th {\n",
       "        text-align: right;\n",
       "    }\n",
       "</style>\n",
       "<table border=\"1\" class=\"dataframe\">\n",
       "  <thead>\n",
       "    <tr style=\"text-align: right;\">\n",
       "      <th></th>\n",
       "      <th>order_id</th>\n",
       "      <th>order_item_id</th>\n",
       "      <th>product_id</th>\n",
       "      <th>seller_id</th>\n",
       "      <th>shipping_limit_date</th>\n",
       "      <th>price</th>\n",
       "      <th>freight_value</th>\n",
       "    </tr>\n",
       "  </thead>\n",
       "  <tbody>\n",
       "    <tr>\n",
       "      <th>0</th>\n",
       "      <td>00010242fe8c5a6d1ba2dd792cb16214</td>\n",
       "      <td>1</td>\n",
       "      <td>4244733e06e7ecb4970a6e2683c13e61</td>\n",
       "      <td>48436dade18ac8b2bce089ec2a041202</td>\n",
       "      <td>2017-09-19 09:45:35</td>\n",
       "      <td>58.90</td>\n",
       "      <td>13.29</td>\n",
       "    </tr>\n",
       "    <tr>\n",
       "      <th>1</th>\n",
       "      <td>00018f77f2f0320c557190d7a144bdd3</td>\n",
       "      <td>1</td>\n",
       "      <td>e5f2d52b802189ee658865ca93d83a8f</td>\n",
       "      <td>dd7ddc04e1b6c2c614352b383efe2d36</td>\n",
       "      <td>2017-05-03 11:05:13</td>\n",
       "      <td>239.90</td>\n",
       "      <td>19.93</td>\n",
       "    </tr>\n",
       "    <tr>\n",
       "      <th>2</th>\n",
       "      <td>000229ec398224ef6ca0657da4fc703e</td>\n",
       "      <td>1</td>\n",
       "      <td>c777355d18b72b67abbeef9df44fd0fd</td>\n",
       "      <td>5b51032eddd242adc84c38acab88f23d</td>\n",
       "      <td>2018-01-18 14:48:30</td>\n",
       "      <td>199.00</td>\n",
       "      <td>17.87</td>\n",
       "    </tr>\n",
       "    <tr>\n",
       "      <th>3</th>\n",
       "      <td>00024acbcdf0a6daa1e931b038114c75</td>\n",
       "      <td>1</td>\n",
       "      <td>7634da152a4610f1595efa32f14722fc</td>\n",
       "      <td>9d7a1d34a5052409006425275ba1c2b4</td>\n",
       "      <td>2018-08-15 10:10:18</td>\n",
       "      <td>12.99</td>\n",
       "      <td>12.79</td>\n",
       "    </tr>\n",
       "    <tr>\n",
       "      <th>4</th>\n",
       "      <td>00042b26cf59d7ce69dfabb4e55b4fd9</td>\n",
       "      <td>1</td>\n",
       "      <td>ac6c3623068f30de03045865e4e10089</td>\n",
       "      <td>df560393f3a51e74553ab94004ba5c87</td>\n",
       "      <td>2017-02-13 13:57:51</td>\n",
       "      <td>199.90</td>\n",
       "      <td>18.14</td>\n",
       "    </tr>\n",
       "  </tbody>\n",
       "</table>\n",
       "</div>"
      ],
      "text/plain": [
       "                           order_id  order_item_id  \\\n",
       "0  00010242fe8c5a6d1ba2dd792cb16214              1   \n",
       "1  00018f77f2f0320c557190d7a144bdd3              1   \n",
       "2  000229ec398224ef6ca0657da4fc703e              1   \n",
       "3  00024acbcdf0a6daa1e931b038114c75              1   \n",
       "4  00042b26cf59d7ce69dfabb4e55b4fd9              1   \n",
       "\n",
       "                         product_id                         seller_id  \\\n",
       "0  4244733e06e7ecb4970a6e2683c13e61  48436dade18ac8b2bce089ec2a041202   \n",
       "1  e5f2d52b802189ee658865ca93d83a8f  dd7ddc04e1b6c2c614352b383efe2d36   \n",
       "2  c777355d18b72b67abbeef9df44fd0fd  5b51032eddd242adc84c38acab88f23d   \n",
       "3  7634da152a4610f1595efa32f14722fc  9d7a1d34a5052409006425275ba1c2b4   \n",
       "4  ac6c3623068f30de03045865e4e10089  df560393f3a51e74553ab94004ba5c87   \n",
       "\n",
       "   shipping_limit_date   price  freight_value  \n",
       "0  2017-09-19 09:45:35   58.90          13.29  \n",
       "1  2017-05-03 11:05:13  239.90          19.93  \n",
       "2  2018-01-18 14:48:30  199.00          17.87  \n",
       "3  2018-08-15 10:10:18   12.99          12.79  \n",
       "4  2017-02-13 13:57:51  199.90          18.14  "
      ]
     },
     "execution_count": 16,
     "metadata": {},
     "output_type": "execute_result"
    }
   ],
   "source": [
    "df_items.head(5)  "
   ]
  },
  {
   "cell_type": "markdown",
   "metadata": {},
   "source": [
    "order_id  —  уникальный идентификатор заказа (номер чека)\n",
    "\n",
    "order_item_id —  идентификатор товара внутри одного заказа\n",
    "\n",
    "product_id —  ид товара (аналог штрихкода)\n",
    "\n",
    "seller_id — ид производителя товара\n",
    "\n",
    "shipping_limit_date —  максимальная дата доставки продавцом для передачи заказа партнеру по логистике\n",
    "\n",
    "price —  цена за единицу товара\n",
    "\n",
    "freight_value —  вес товара"
   ]
  },
  {
   "cell_type": "code",
   "execution_count": 15,
   "metadata": {},
   "outputs": [
    {
     "data": {
      "text/plain": [
       "(112650, 7)"
      ]
     },
     "execution_count": 15,
     "metadata": {},
     "output_type": "execute_result"
    }
   ],
   "source": [
    "# Проверка количества строк и столбов \n",
    "df_items.shape"
   ]
  },
  {
   "cell_type": "code",
   "execution_count": 16,
   "metadata": {},
   "outputs": [
    {
     "data": {
      "text/plain": [
       "order_id                object\n",
       "order_item_id            int64\n",
       "product_id              object\n",
       "seller_id               object\n",
       "shipping_limit_date     object\n",
       "price                  float64\n",
       "freight_value          float64\n",
       "dtype: object"
      ]
     },
     "execution_count": 16,
     "metadata": {},
     "output_type": "execute_result"
    }
   ],
   "source": [
    "# Проверка типов данных\n",
    "df_items.dtypes"
   ]
  },
  {
   "cell_type": "code",
   "execution_count": 19,
   "metadata": {},
   "outputs": [
    {
     "data": {
      "text/plain": [
       "order_id               0\n",
       "order_item_id          0\n",
       "product_id             0\n",
       "seller_id              0\n",
       "shipping_limit_date    0\n",
       "price                  0\n",
       "freight_value          0\n",
       "dtype: int64"
      ]
     },
     "execution_count": 19,
     "metadata": {},
     "output_type": "execute_result"
    }
   ],
   "source": [
    "# Проверка отсутствующих значений\n",
    "df_items.isnull().sum()"
   ]
  },
  {
   "cell_type": "code",
   "execution_count": 20,
   "metadata": {},
   "outputs": [
    {
     "data": {
      "text/plain": [
       "0"
      ]
     },
     "execution_count": 20,
     "metadata": {},
     "output_type": "execute_result"
    }
   ],
   "source": [
    "# Проверка дубликатов\n",
    "df_items.duplicated().sum()"
   ]
  },
  {
   "cell_type": "markdown",
   "metadata": {},
   "source": [
    "# ---------------------------------------------------------------------------------------------------------------"
   ]
  },
  {
   "cell_type": "markdown",
   "metadata": {},
   "source": [
    "## 1. Сколько у нас пользователей, которые совершили покупку только один раз? "
   ]
  },
  {
   "cell_type": "markdown",
   "metadata": {},
   "source": [
    "Для начала объединим две таблицы 'df_customers' и 'df_orders', так как нам понадобится 'customer_unique_id'(уникальный идентификатор пользователя) и 'order_id'(уникальный идентификатор заказа ), для подсчета нужных нам данных."
   ]
  },
  {
   "cell_type": "code",
   "execution_count": 17,
   "metadata": {},
   "outputs": [],
   "source": [
    "# Объединение таблиц по столбцу 'customer_id' \n",
    "merged_customers_orders = pd.merge(df_customers, df_orders , on='customer_id')"
   ]
  },
  {
   "cell_type": "markdown",
   "metadata": {},
   "source": [
    "Посмотрим какие данные стоит учитывать в данном задании. Будем отталкиваться от статуса и подтверждения оплаты заказов."
   ]
  },
  {
   "cell_type": "code",
   "execution_count": 18,
   "metadata": {},
   "outputs": [
    {
     "data": {
      "text/plain": [
       "array(['delivered', 'canceled', 'invoiced', 'shipped', 'processing',\n",
       "       'unavailable', 'approved', 'created'], dtype=object)"
      ]
     },
     "execution_count": 18,
     "metadata": {},
     "output_type": "execute_result"
    }
   ],
   "source": [
    "# Посмотрим какие есть статусы в столбце 'order_status'\n",
    "merged_customers_orders['order_status'].unique()"
   ]
  },
  {
   "cell_type": "markdown",
   "metadata": {},
   "source": [
    "- delivered (доставлен пользователю): товар был успешно доставлен получателю.\n",
    "\n",
    "\n",
    "- invoiced (выставлен счёт): был выставлен счет за товар.\n",
    "\n",
    "\n",
    "- shipped (отгружен со склада): товар был отправлен или отгружен для доставки.\n",
    "\n",
    "\n",
    "- processing (в процессе сборки заказа): заказ находится в процессе сборки.\n",
    "\n",
    "\n",
    "- unavailable (недоступен): товар недоступны. Нет уточнее временно или нет, поэтому я буду считать, что недоступен навсегда.\n",
    "\n",
    "\n",
    "- canceled (отменён): товар был отменен.\n",
    "\n",
    "\n",
    "- created (создан): был создан новый заказ.\n",
    "\n",
    "\n",
    "- approved (подтверждён): заказ был подтверждён или одобрен."
   ]
  },
  {
   "cell_type": "code",
   "execution_count": 20,
   "metadata": {},
   "outputs": [
    {
     "data": {
      "text/html": [
       "<div>\n",
       "<style scoped>\n",
       "    .dataframe tbody tr th:only-of-type {\n",
       "        vertical-align: middle;\n",
       "    }\n",
       "\n",
       "    .dataframe tbody tr th {\n",
       "        vertical-align: top;\n",
       "    }\n",
       "\n",
       "    .dataframe thead th {\n",
       "        text-align: right;\n",
       "    }\n",
       "</style>\n",
       "<table border=\"1\" class=\"dataframe\">\n",
       "  <thead>\n",
       "    <tr style=\"text-align: right;\">\n",
       "      <th></th>\n",
       "      <th>order_status</th>\n",
       "      <th>order_id</th>\n",
       "    </tr>\n",
       "  </thead>\n",
       "  <tbody>\n",
       "    <tr>\n",
       "      <th>0</th>\n",
       "      <td>canceled</td>\n",
       "      <td>141</td>\n",
       "    </tr>\n",
       "    <tr>\n",
       "      <th>1</th>\n",
       "      <td>created</td>\n",
       "      <td>5</td>\n",
       "    </tr>\n",
       "    <tr>\n",
       "      <th>2</th>\n",
       "      <td>delivered</td>\n",
       "      <td>14</td>\n",
       "    </tr>\n",
       "  </tbody>\n",
       "</table>\n",
       "</div>"
      ],
      "text/plain": [
       "  order_status  order_id\n",
       "0     canceled       141\n",
       "1      created         5\n",
       "2    delivered        14"
      ]
     },
     "execution_count": 20,
     "metadata": {},
     "output_type": "execute_result"
    }
   ],
   "source": [
    "# Посмотрим сколько пропущенных значений в столбце 'order_approved_at'. Это покажет какие заказы были не оплачены.\n",
    "unpaid = merged_customers_orders.query(\"order_approved_at==''\")\n",
    "unpaid\\\n",
    "    .groupby('order_status', as_index=False)\\\n",
    "    .agg({'order_id': 'count'})"
   ]
  },
  {
   "cell_type": "markdown",
   "metadata": {},
   "source": [
    "По полученным данным можно сделать следующие выводы:\n",
    "\n",
    "1. Самое большое количество (141) неоплаченных заказов в столбце 'canceled'. Возможно это была одна из причин отмены, однако для более точного анализа необходимо исключить этот статус из расчетов т.к он не покажет настоящую картину покупок. Нету смысла в том, что человек оплатил покупку, если потом она отменилась. Просто отметим, что 625 заказов получили статус 'canceled'. \n",
    "\n",
    "\n",
    "2. Нет смысла добавлять в расчет статус 'created' т.к так он всегда будет иметь статус неподтвержденной оплаты.\n",
    "\n",
    "\n",
    "3. Несмотря на то, что статус 'delivered' обычно подразумевает оплату и доставку товара, иногда встречаются случаи, когда товар не имеет подтверждения оплаты. Это может быть связано с техническими сбоями или выбором клиента оплаты при получении. Однако для целей анализа исключим товары без подтверждения оплаты из статуса 'delivered'.\n",
    "\n",
    "\n",
    "4. Также нет смысла учитывать \"unavailable\", так как заказ может остаться в этом статусе. Дополним, что 609 заказов находятся в статусе \"unavailable\"\n",
    "\n",
    "Так как нужно учитывать только факт самой покупки, независимо от того, доставлена ли товар пользователю или находится в пути,  мы возьмем все данные, кроме: стасуса 'canceled', 'unavailable', 'created' и товары без подверждения оплаты. "
   ]
  },
  {
   "cell_type": "code",
   "execution_count": 21,
   "metadata": {},
   "outputs": [],
   "source": [
    "# Фильтрация данных с нужными нам статусами и проверкой наличия подтверждения оплаты\n",
    "merged_customers_orders = merged_customers_orders.query(\"order_status!=['canceled', 'unavailable', 'created'] & order_approved_at!=''\")"
   ]
  },
  {
   "cell_type": "code",
   "execution_count": 22,
   "metadata": {},
   "outputs": [],
   "source": [
    "# Количество пользователей, которые совершили покупку только один раз\n",
    "single_purchase_users_count = merged_customers_orders\\\n",
    "    .groupby('customer_unique_id', as_index=False)\\\n",
    "    .agg({'order_id': 'count'})\\\n",
    "    .query('order_id == 1')\\\n",
    "    .rename(columns={'order_id': 'количество_покупок',\n",
    "                    'customer_unique_id': 'ид_клиента'})"
   ]
  },
  {
   "cell_type": "code",
   "execution_count": 23,
   "metadata": {},
   "outputs": [
    {
     "data": {
      "text/html": [
       "<div>\n",
       "<style scoped>\n",
       "    .dataframe tbody tr th:only-of-type {\n",
       "        vertical-align: middle;\n",
       "    }\n",
       "\n",
       "    .dataframe tbody tr th {\n",
       "        vertical-align: top;\n",
       "    }\n",
       "\n",
       "    .dataframe thead th {\n",
       "        text-align: right;\n",
       "    }\n",
       "</style>\n",
       "<table border=\"1\" class=\"dataframe\">\n",
       "  <thead>\n",
       "    <tr style=\"text-align: right;\">\n",
       "      <th></th>\n",
       "      <th>ид_клиента</th>\n",
       "      <th>количество_покупок</th>\n",
       "    </tr>\n",
       "  </thead>\n",
       "  <tbody>\n",
       "    <tr>\n",
       "      <th>0</th>\n",
       "      <td>0000366f3b9a7992bf8c76cfdf3221e2</td>\n",
       "      <td>1</td>\n",
       "    </tr>\n",
       "    <tr>\n",
       "      <th>1</th>\n",
       "      <td>0000b849f77a49e4a4ce2b2a4ca5be3f</td>\n",
       "      <td>1</td>\n",
       "    </tr>\n",
       "    <tr>\n",
       "      <th>2</th>\n",
       "      <td>0000f46a3911fa3c0805444483337064</td>\n",
       "      <td>1</td>\n",
       "    </tr>\n",
       "    <tr>\n",
       "      <th>3</th>\n",
       "      <td>0000f6ccb0745a6a4b88665a16c9f078</td>\n",
       "      <td>1</td>\n",
       "    </tr>\n",
       "    <tr>\n",
       "      <th>4</th>\n",
       "      <td>0004aac84e0df4da2b147fca70cf8255</td>\n",
       "      <td>1</td>\n",
       "    </tr>\n",
       "    <tr>\n",
       "      <th>...</th>\n",
       "      <td>...</td>\n",
       "      <td>...</td>\n",
       "    </tr>\n",
       "    <tr>\n",
       "      <th>94968</th>\n",
       "      <td>fffcf5a5ff07b0908bd4e2dbc735a684</td>\n",
       "      <td>1</td>\n",
       "    </tr>\n",
       "    <tr>\n",
       "      <th>94969</th>\n",
       "      <td>fffea47cd6d3cc0a88bd621562a9d061</td>\n",
       "      <td>1</td>\n",
       "    </tr>\n",
       "    <tr>\n",
       "      <th>94970</th>\n",
       "      <td>ffff371b4d645b6ecea244b27531430a</td>\n",
       "      <td>1</td>\n",
       "    </tr>\n",
       "    <tr>\n",
       "      <th>94971</th>\n",
       "      <td>ffff5962728ec6157033ef9805bacc48</td>\n",
       "      <td>1</td>\n",
       "    </tr>\n",
       "    <tr>\n",
       "      <th>94972</th>\n",
       "      <td>ffffd2657e2aad2907e67c3e9daecbeb</td>\n",
       "      <td>1</td>\n",
       "    </tr>\n",
       "  </tbody>\n",
       "</table>\n",
       "<p>92087 rows × 2 columns</p>\n",
       "</div>"
      ],
      "text/plain": [
       "                             ид_клиента  количество_покупок\n",
       "0      0000366f3b9a7992bf8c76cfdf3221e2                   1\n",
       "1      0000b849f77a49e4a4ce2b2a4ca5be3f                   1\n",
       "2      0000f46a3911fa3c0805444483337064                   1\n",
       "3      0000f6ccb0745a6a4b88665a16c9f078                   1\n",
       "4      0004aac84e0df4da2b147fca70cf8255                   1\n",
       "...                                 ...                 ...\n",
       "94968  fffcf5a5ff07b0908bd4e2dbc735a684                   1\n",
       "94969  fffea47cd6d3cc0a88bd621562a9d061                   1\n",
       "94970  ffff371b4d645b6ecea244b27531430a                   1\n",
       "94971  ffff5962728ec6157033ef9805bacc48                   1\n",
       "94972  ffffd2657e2aad2907e67c3e9daecbeb                   1\n",
       "\n",
       "[92087 rows x 2 columns]"
      ]
     },
     "execution_count": 23,
     "metadata": {},
     "output_type": "execute_result"
    }
   ],
   "source": [
    "single_purchase_users_count"
   ]
  },
  {
   "cell_type": "code",
   "execution_count": 24,
   "metadata": {},
   "outputs": [
    {
     "data": {
      "text/plain": [
       "0"
      ]
     },
     "execution_count": 24,
     "metadata": {},
     "output_type": "execute_result"
    }
   ],
   "source": [
    "# Проверка дубликатов\n",
    "single_purchase_users_count.duplicated().sum()"
   ]
  },
  {
   "cell_type": "code",
   "execution_count": 25,
   "metadata": {},
   "outputs": [
    {
     "data": {
      "text/plain": [
       "92087"
      ]
     },
     "execution_count": 25,
     "metadata": {},
     "output_type": "execute_result"
    }
   ],
   "source": [
    "# Количество уникальных знчаений в столбе 'ид_клиента'\n",
    "single_purchase_users_count.ид_клиента.nunique()"
   ]
  },
  {
   "cell_type": "markdown",
   "metadata": {},
   "source": [
    "#### ИТОГ: 92087 пользователей"
   ]
  },
  {
   "cell_type": "markdown",
   "metadata": {},
   "source": [
    "# ---------------------------------------------------------------------------------------------------------------"
   ]
  },
  {
   "cell_type": "markdown",
   "metadata": {},
   "source": [
    "##  2. Сколько заказов в месяц в среднем не доставляется по разным причинам (вывести детализацию по причинам)? "
   ]
  },
  {
   "cell_type": "markdown",
   "metadata": {},
   "source": [
    "Для понимания причины нам понадобится колонка 'order_status'. Статусы, которые можно добавить в группу недоставленных заказов: unavailable, canceled, так как с большой вероятностью их уже не доставят. В то время как остальные все еще находятся на стадии доставки."
   ]
  },
  {
   "cell_type": "code",
   "execution_count": 26,
   "metadata": {},
   "outputs": [],
   "source": [
    "# Отфильтруем данные по статусам: unavailable, canceled\n",
    "filtered_unavailable_canceled_orders = df_orders.query(\"order_status==['unavailable', 'canceled']\")"
   ]
  },
  {
   "cell_type": "code",
   "execution_count": 27,
   "metadata": {},
   "outputs": [
    {
     "name": "stderr",
     "output_type": "stream",
     "text": [
      "/opt/tljh/user/lib/python3.7/site-packages/ipykernel_launcher.py:2: SettingWithCopyWarning: \n",
      "A value is trying to be set on a copy of a slice from a DataFrame.\n",
      "Try using .loc[row_indexer,col_indexer] = value instead\n",
      "\n",
      "See the caveats in the documentation: https://pandas.pydata.org/pandas-docs/stable/user_guide/indexing.html#returning-a-view-versus-a-copy\n",
      "  \n"
     ]
    }
   ],
   "source": [
    "# Создаем колонку с началом каждого месяца, чтобы в дальнейшем посчитать среднее значение по месяцам\n",
    "filtered_unavailable_canceled_orders['start_month'] = filtered_unavailable_canceled_orders['order_purchase_timestamp'].dt.to_period('M').dt.to_timestamp()"
   ]
  },
  {
   "cell_type": "code",
   "execution_count": 28,
   "metadata": {},
   "outputs": [],
   "source": [
    "# Считаем количество заказов по статусам и месяцам\n",
    "count_orders_by_status_month = filtered_unavailable_canceled_orders\\\n",
    "    .groupby(['start_month', 'order_status'],as_index=False)\\\n",
    "    .agg({'order_id':'count'})"
   ]
  },
  {
   "cell_type": "code",
   "execution_count": 29,
   "metadata": {},
   "outputs": [],
   "source": [
    "# Считаем сколько заказов в месяц в среднем не доставляется по причине canceled (отменено) и unavailable (недоступно)\n",
    "mean_orders_by_status = count_orders_by_status_month\\\n",
    "    .groupby('order_status',as_index=False)\\\n",
    "    .agg({'order_id':'mean'})\\\n",
    "    .rename(columns={'order_status': 'причина',\n",
    "                    'order_id': 'среднее_количество'})"
   ]
  },
  {
   "cell_type": "code",
   "execution_count": 30,
   "metadata": {},
   "outputs": [
    {
     "data": {
      "text/html": [
       "<div>\n",
       "<style scoped>\n",
       "    .dataframe tbody tr th:only-of-type {\n",
       "        vertical-align: middle;\n",
       "    }\n",
       "\n",
       "    .dataframe tbody tr th {\n",
       "        vertical-align: top;\n",
       "    }\n",
       "\n",
       "    .dataframe thead th {\n",
       "        text-align: right;\n",
       "    }\n",
       "</style>\n",
       "<table border=\"1\" class=\"dataframe\">\n",
       "  <thead>\n",
       "    <tr style=\"text-align: right;\">\n",
       "      <th></th>\n",
       "      <th>причина</th>\n",
       "      <th>среднее_количество</th>\n",
       "    </tr>\n",
       "  </thead>\n",
       "  <tbody>\n",
       "    <tr>\n",
       "      <th>0</th>\n",
       "      <td>canceled</td>\n",
       "      <td>26.041667</td>\n",
       "    </tr>\n",
       "    <tr>\n",
       "      <th>1</th>\n",
       "      <td>unavailable</td>\n",
       "      <td>29.000000</td>\n",
       "    </tr>\n",
       "  </tbody>\n",
       "</table>\n",
       "</div>"
      ],
      "text/plain": [
       "       причина  среднее_количество\n",
       "0     canceled           26.041667\n",
       "1  unavailable           29.000000"
      ]
     },
     "execution_count": 30,
     "metadata": {},
     "output_type": "execute_result"
    }
   ],
   "source": [
    "mean_orders_by_status"
   ]
  },
  {
   "cell_type": "markdown",
   "metadata": {},
   "source": [
    "#### ИТОГ: в среднем 26 заказов не доставляются по причине \"canceled\", а 29 из-за \"unavailable"
   ]
  },
  {
   "cell_type": "markdown",
   "metadata": {},
   "source": [
    "# ---------------------------------------------------------------------------------------------------------------"
   ]
  },
  {
   "cell_type": "markdown",
   "metadata": {},
   "source": [
    "##  3. По каждому товару определить, в какой день недели товар чаще всего покупается."
   ]
  },
  {
   "cell_type": "markdown",
   "metadata": {},
   "source": [
    "Для этого нужно объединить таблицы df_orders и df_items, так как в таблице df_items содержатся заказы, а в df_orders - даты."
   ]
  },
  {
   "cell_type": "code",
   "execution_count": 31,
   "metadata": {},
   "outputs": [],
   "source": [
    "# Объединение таблиц по столбцу 'order_id' \n",
    "merged_orders_items = pd.merge(df_orders, df_items , on='order_id')"
   ]
  },
  {
   "cell_type": "code",
   "execution_count": 32,
   "metadata": {},
   "outputs": [],
   "source": [
    "# Сделаем новые колонку с названием дней недели \n",
    "merged_orders_items['day_week'] = merged_orders_items['order_purchase_timestamp'].dt.day_name()"
   ]
  },
  {
   "cell_type": "code",
   "execution_count": 33,
   "metadata": {},
   "outputs": [],
   "source": [
    "# Уберем неоплаченные товары \n",
    "# Здесь мы оставим статусы: 'canceled', 'unavailable'  так как нам важен сам факт покупки, \n",
    "# независимо от того, что с этим товаром случилось в дальнейшем.\n",
    "merged_orders_items = merged_orders_items.query(\"order_approved_at!=''\")"
   ]
  },
  {
   "cell_type": "markdown",
   "metadata": {},
   "source": [
    "Здесь мы оставим статусы: 'canceled', 'unavailable', 'created' т.к нам не важно, что с этими товарос случилось в дальнейшем, \n",
    "нам нужен сам факт покупки"
   ]
  },
  {
   "cell_type": "code",
   "execution_count": 34,
   "metadata": {},
   "outputs": [],
   "source": [
    "# Первым делом давайте посчитаем количество товаров, купленных в разные дни недели \n",
    "product_count_by_timestamp_day_week = merged_orders_items\\\n",
    "    .groupby(['order_purchase_timestamp', 'day_week'], as_index=False)\\\n",
    "    .agg({'product_id': 'count'})"
   ]
  },
  {
   "cell_type": "markdown",
   "metadata": {},
   "source": [
    "Так как нам нужно узнать 'в какой день недели товар чаще всего покупается' мы просто посчитаем количество дат в каждом дне недели. "
   ]
  },
  {
   "cell_type": "code",
   "execution_count": 35,
   "metadata": {},
   "outputs": [],
   "source": [
    "# Подсчет количество заказов для каждого дня недели\n",
    "count_timestamp_by_day_week = product_count_by_timestamp_day_week\\\n",
    "    .groupby('day_week', as_index=False)\\\n",
    "    .agg({'order_purchase_timestamp': 'count'})\\\n",
    "    .sort_values('order_purchase_timestamp', ascending=False)\\\n",
    "    .rename(columns={'day_week': 'день_недели',\n",
    "                    'order_purchase_timestamp': 'количество'})"
   ]
  },
  {
   "cell_type": "code",
   "execution_count": 36,
   "metadata": {},
   "outputs": [
    {
     "data": {
      "text/html": [
       "<div>\n",
       "<style scoped>\n",
       "    .dataframe tbody tr th:only-of-type {\n",
       "        vertical-align: middle;\n",
       "    }\n",
       "\n",
       "    .dataframe tbody tr th {\n",
       "        vertical-align: top;\n",
       "    }\n",
       "\n",
       "    .dataframe thead th {\n",
       "        text-align: right;\n",
       "    }\n",
       "</style>\n",
       "<table border=\"1\" class=\"dataframe\">\n",
       "  <thead>\n",
       "    <tr style=\"text-align: right;\">\n",
       "      <th></th>\n",
       "      <th>день_недели</th>\n",
       "      <th>количество</th>\n",
       "    </tr>\n",
       "  </thead>\n",
       "  <tbody>\n",
       "    <tr>\n",
       "      <th>1</th>\n",
       "      <td>Monday</td>\n",
       "      <td>15989</td>\n",
       "    </tr>\n",
       "    <tr>\n",
       "      <th>5</th>\n",
       "      <td>Tuesday</td>\n",
       "      <td>15756</td>\n",
       "    </tr>\n",
       "    <tr>\n",
       "      <th>6</th>\n",
       "      <td>Wednesday</td>\n",
       "      <td>15335</td>\n",
       "    </tr>\n",
       "    <tr>\n",
       "      <th>4</th>\n",
       "      <td>Thursday</td>\n",
       "      <td>14535</td>\n",
       "    </tr>\n",
       "    <tr>\n",
       "      <th>0</th>\n",
       "      <td>Friday</td>\n",
       "      <td>13923</td>\n",
       "    </tr>\n",
       "    <tr>\n",
       "      <th>3</th>\n",
       "      <td>Sunday</td>\n",
       "      <td>11817</td>\n",
       "    </tr>\n",
       "    <tr>\n",
       "      <th>2</th>\n",
       "      <td>Saturday</td>\n",
       "      <td>10743</td>\n",
       "    </tr>\n",
       "  </tbody>\n",
       "</table>\n",
       "</div>"
      ],
      "text/plain": [
       "  день_недели  количество\n",
       "1      Monday       15989\n",
       "5     Tuesday       15756\n",
       "6   Wednesday       15335\n",
       "4    Thursday       14535\n",
       "0      Friday       13923\n",
       "3      Sunday       11817\n",
       "2    Saturday       10743"
      ]
     },
     "execution_count": 36,
     "metadata": {},
     "output_type": "execute_result"
    }
   ],
   "source": [
    "count_timestamp_by_day_week"
   ]
  },
  {
   "cell_type": "markdown",
   "metadata": {},
   "source": [
    "#### ИТОГ:  Чаще всего товар покупается в 'Monday' (15989)"
   ]
  },
  {
   "cell_type": "markdown",
   "metadata": {},
   "source": [
    "# ---------------------------------------------------------------------------------------------------------------"
   ]
  },
  {
   "cell_type": "markdown",
   "metadata": {},
   "source": [
    "## 4. Сколько у каждого из пользователей в среднем покупок в неделю (по месяцам)?"
   ]
  },
  {
   "cell_type": "markdown",
   "metadata": {},
   "source": [
    "Для ДатаФрейма 'merged_customers_orders' из первого задания добавим два новых столбца с месяцами и неделями"
   ]
  },
  {
   "cell_type": "code",
   "execution_count": 37,
   "metadata": {},
   "outputs": [],
   "source": [
    "# Добавим столбец с месяцами\n",
    "merged_customers_orders['month'] = merged_customers_orders['order_approved_at'].dt.to_period(\"M\")"
   ]
  },
  {
   "cell_type": "code",
   "execution_count": 38,
   "metadata": {},
   "outputs": [],
   "source": [
    "# Добавим столбец с неделями, используя метод деления количество дней в месяце на количество дней в неделе\n",
    "merged_customers_orders['weeks'] = (merged_customers_orders['month'].dt.days_in_month / 7).round(2)"
   ]
  },
  {
   "cell_type": "code",
   "execution_count": 39,
   "metadata": {},
   "outputs": [],
   "source": [
    "# Для начала посчитаем количество покупок каждого пользователя в разные месяца\n",
    "order_count = merged_customers_orders\\\n",
    "    .groupby(['customer_unique_id','month','weeks'], as_index=False)\\\n",
    "    .agg({'order_id': 'count'})"
   ]
  },
  {
   "cell_type": "code",
   "execution_count": 40,
   "metadata": {},
   "outputs": [],
   "source": [
    "# Посчитаем среднее количество заказов в месяц и добавим колонку 'weeks' для дальнейших расчетов  \n",
    "order_mean_by_customer = order_count\\\n",
    "    .groupby(['customer_unique_id', 'month', 'weeks'], as_index=False)\\\n",
    "    .agg({'order_id': 'mean'})"
   ]
  },
  {
   "cell_type": "code",
   "execution_count": 41,
   "metadata": {},
   "outputs": [],
   "source": [
    "# Вычисляем среднее количество покупок в каждой недели \n",
    "order_mean_by_customer['avg_order_by_week']=order_mean_by_customer['order_id']/order_mean_by_customer['weeks']"
   ]
  },
  {
   "cell_type": "markdown",
   "metadata": {},
   "source": [
    "#### ИТОГ:  "
   ]
  },
  {
   "cell_type": "code",
   "execution_count": 42,
   "metadata": {},
   "outputs": [
    {
     "data": {
      "text/html": [
       "<div>\n",
       "<style scoped>\n",
       "    .dataframe tbody tr th:only-of-type {\n",
       "        vertical-align: middle;\n",
       "    }\n",
       "\n",
       "    .dataframe tbody tr th {\n",
       "        vertical-align: top;\n",
       "    }\n",
       "\n",
       "    .dataframe thead th {\n",
       "        text-align: right;\n",
       "    }\n",
       "</style>\n",
       "<table border=\"1\" class=\"dataframe\">\n",
       "  <thead>\n",
       "    <tr style=\"text-align: right;\">\n",
       "      <th></th>\n",
       "      <th>customer_unique_id</th>\n",
       "      <th>month</th>\n",
       "      <th>weeks</th>\n",
       "      <th>order_id</th>\n",
       "      <th>avg_order_by_week</th>\n",
       "    </tr>\n",
       "  </thead>\n",
       "  <tbody>\n",
       "    <tr>\n",
       "      <th>0</th>\n",
       "      <td>0000366f3b9a7992bf8c76cfdf3221e2</td>\n",
       "      <td>2018-05</td>\n",
       "      <td>4.43</td>\n",
       "      <td>1</td>\n",
       "      <td>0.225734</td>\n",
       "    </tr>\n",
       "    <tr>\n",
       "      <th>1</th>\n",
       "      <td>0000b849f77a49e4a4ce2b2a4ca5be3f</td>\n",
       "      <td>2018-05</td>\n",
       "      <td>4.43</td>\n",
       "      <td>1</td>\n",
       "      <td>0.225734</td>\n",
       "    </tr>\n",
       "    <tr>\n",
       "      <th>2</th>\n",
       "      <td>0000f46a3911fa3c0805444483337064</td>\n",
       "      <td>2017-03</td>\n",
       "      <td>4.43</td>\n",
       "      <td>1</td>\n",
       "      <td>0.225734</td>\n",
       "    </tr>\n",
       "    <tr>\n",
       "      <th>3</th>\n",
       "      <td>0000f6ccb0745a6a4b88665a16c9f078</td>\n",
       "      <td>2017-10</td>\n",
       "      <td>4.43</td>\n",
       "      <td>1</td>\n",
       "      <td>0.225734</td>\n",
       "    </tr>\n",
       "    <tr>\n",
       "      <th>4</th>\n",
       "      <td>0004aac84e0df4da2b147fca70cf8255</td>\n",
       "      <td>2017-11</td>\n",
       "      <td>4.29</td>\n",
       "      <td>1</td>\n",
       "      <td>0.233100</td>\n",
       "    </tr>\n",
       "  </tbody>\n",
       "</table>\n",
       "</div>"
      ],
      "text/plain": [
       "                 customer_unique_id    month  weeks  order_id  \\\n",
       "0  0000366f3b9a7992bf8c76cfdf3221e2  2018-05   4.43         1   \n",
       "1  0000b849f77a49e4a4ce2b2a4ca5be3f  2018-05   4.43         1   \n",
       "2  0000f46a3911fa3c0805444483337064  2017-03   4.43         1   \n",
       "3  0000f6ccb0745a6a4b88665a16c9f078  2017-10   4.43         1   \n",
       "4  0004aac84e0df4da2b147fca70cf8255  2017-11   4.29         1   \n",
       "\n",
       "   avg_order_by_week  \n",
       "0           0.225734  \n",
       "1           0.225734  \n",
       "2           0.225734  \n",
       "3           0.225734  \n",
       "4           0.233100  "
      ]
     },
     "execution_count": 42,
     "metadata": {},
     "output_type": "execute_result"
    }
   ],
   "source": [
    "order_mean_by_customer.head()"
   ]
  },
  {
   "cell_type": "markdown",
   "metadata": {},
   "source": [
    "# ---------------------------------------------------------------------------------------------------------------"
   ]
  },
  {
   "cell_type": "markdown",
   "metadata": {},
   "source": [
    "## 5. 1 Выполните когортный анализ пользователей.\n",
    "\n",
    "\n",
    "## 5. 2 В период с января по декабрь выявите когорту с самым высоким retention на 3-й месяц."
   ]
  },
  {
   "cell_type": "markdown",
   "metadata": {},
   "source": [
    "Опять возьмем ДатаФрейм 'merged_customers_orders' и проведем на нем когортный анализ "
   ]
  },
  {
   "cell_type": "markdown",
   "metadata": {},
   "source": [
    "За началом нашего когортного анализа будем считать день первой подтвержденной покупки"
   ]
  },
  {
   "cell_type": "code",
   "execution_count": 43,
   "metadata": {},
   "outputs": [],
   "source": [
    "# Найдем дату первой подтвержденной покупки\n",
    "first_purchase_date = merged_customers_orders\\\n",
    "    .groupby('customer_unique_id', as_index=False)\\\n",
    "    .agg({'order_approved_at': 'min'})"
   ]
  },
  {
   "cell_type": "code",
   "execution_count": 44,
   "metadata": {},
   "outputs": [],
   "source": [
    "# Объединим данные с основным 'merged_customers_orders', \n",
    "# но перед этим переименуем колонку order_approved_at т.к в'merged_customers_orders' тоже есть колонка с такимже названием  \n",
    "# и извлекаем из даты только год и месяц \n",
    "first_purchase_date.rename(columns={'order_approved_at': 'first_order_date'}, inplace=True)\n",
    "first_purchase_date['first_order_date'] = first_purchase_date['first_order_date'].dt.to_period('M')\n",
    "\n",
    "merged_customers_orders = merged_customers_orders.merge(first_purchase_date, on='customer_unique_id')"
   ]
  },
  {
   "cell_type": "code",
   "execution_count": 45,
   "metadata": {},
   "outputs": [],
   "source": [
    "# Создаем колонку с месяцем покупки \n",
    "merged_customers_orders['order_month'] = merged_customers_orders['order_approved_at'].dt.to_period('M')"
   ]
  },
  {
   "cell_type": "code",
   "execution_count": 46,
   "metadata": {},
   "outputs": [],
   "source": [
    "# Расчет разницы между последней покупкой и первой \n",
    "merged_customers_orders['cohort_index'] = (merged_customers_orders['order_month'] - merged_customers_orders['first_order_date']).apply(lambda x: x.n)"
   ]
  },
  {
   "cell_type": "code",
   "execution_count": 47,
   "metadata": {},
   "outputs": [
    {
     "data": {
      "text/plain": [
       "[Period('2016-09', 'M'),\n",
       " Period('2016-10', 'M'),\n",
       " Period('2016-12', 'M'),\n",
       " Period('2017-01', 'M'),\n",
       " Period('2017-02', 'M'),\n",
       " Period('2017-03', 'M'),\n",
       " Period('2017-04', 'M'),\n",
       " Period('2017-05', 'M'),\n",
       " Period('2017-06', 'M'),\n",
       " Period('2017-07', 'M'),\n",
       " Period('2017-08', 'M'),\n",
       " Period('2017-09', 'M'),\n",
       " Period('2017-10', 'M'),\n",
       " Period('2017-11', 'M'),\n",
       " Period('2017-12', 'M'),\n",
       " Period('2018-01', 'M'),\n",
       " Period('2018-02', 'M'),\n",
       " Period('2018-03', 'M'),\n",
       " Period('2018-04', 'M'),\n",
       " Period('2018-05', 'M'),\n",
       " Period('2018-06', 'M'),\n",
       " Period('2018-07', 'M'),\n",
       " Period('2018-08', 'M'),\n",
       " Period('2018-09', 'M')]"
      ]
     },
     "execution_count": 47,
     "metadata": {},
     "output_type": "execute_result"
    }
   ],
   "source": [
    "# Посмотрим за какой год у нас есть все данные с января по декабрь. Делаем вывод, что за 2017 год \n",
    "sorted(merged_customers_orders['order_month'].unique())"
   ]
  },
  {
   "cell_type": "code",
   "execution_count": 48,
   "metadata": {},
   "outputs": [],
   "source": [
    "# Считаем унакальные значения когорты  \n",
    "cohorts = merged_customers_orders\\\n",
    "    .query('first_order_date >= \"2017-01\" & first_order_date <= \"2017-12\"')\\\n",
    "    .groupby(['first_order_date', 'cohort_index'])['customer_unique_id'].apply(pd.Series.nunique).reset_index()"
   ]
  },
  {
   "cell_type": "code",
   "execution_count": 49,
   "metadata": {},
   "outputs": [],
   "source": [
    "# данные о количестве уникальных пользователей\n",
    "unique_users = cohorts.query(\"cohort_index == 0\")[['first_order_date', 'customer_unique_id']]"
   ]
  },
  {
   "cell_type": "code",
   "execution_count": 50,
   "metadata": {},
   "outputs": [],
   "source": [
    "retention = pd.merge(cohorts, unique_users, on='first_order_date')"
   ]
  },
  {
   "cell_type": "code",
   "execution_count": 51,
   "metadata": {},
   "outputs": [],
   "source": [
    "# Частное количества уникальных пользователей в каждом месяце на количество уникальных пользователей в первом месяце\n",
    "retention['retention_rate'] = retention['customer_unique_id_x'] / retention['customer_unique_id_y']"
   ]
  },
  {
   "cell_type": "code",
   "execution_count": 52,
   "metadata": {},
   "outputs": [
    {
     "data": {
      "text/html": [
       "<div>\n",
       "<style scoped>\n",
       "    .dataframe tbody tr th:only-of-type {\n",
       "        vertical-align: middle;\n",
       "    }\n",
       "\n",
       "    .dataframe tbody tr th {\n",
       "        vertical-align: top;\n",
       "    }\n",
       "\n",
       "    .dataframe thead th {\n",
       "        text-align: right;\n",
       "    }\n",
       "</style>\n",
       "<table border=\"1\" class=\"dataframe\">\n",
       "  <thead>\n",
       "    <tr style=\"text-align: right;\">\n",
       "      <th></th>\n",
       "      <th>first_order_date</th>\n",
       "      <th>cohort_index</th>\n",
       "      <th>customer_unique_id_x</th>\n",
       "      <th>customer_unique_id_y</th>\n",
       "      <th>retention_rate</th>\n",
       "    </tr>\n",
       "  </thead>\n",
       "  <tbody>\n",
       "    <tr>\n",
       "      <th>0</th>\n",
       "      <td>2017-01</td>\n",
       "      <td>0</td>\n",
       "      <td>716</td>\n",
       "      <td>716</td>\n",
       "      <td>1.000000</td>\n",
       "    </tr>\n",
       "    <tr>\n",
       "      <th>1</th>\n",
       "      <td>2017-01</td>\n",
       "      <td>1</td>\n",
       "      <td>4</td>\n",
       "      <td>716</td>\n",
       "      <td>0.005587</td>\n",
       "    </tr>\n",
       "    <tr>\n",
       "      <th>2</th>\n",
       "      <td>2017-01</td>\n",
       "      <td>2</td>\n",
       "      <td>2</td>\n",
       "      <td>716</td>\n",
       "      <td>0.002793</td>\n",
       "    </tr>\n",
       "    <tr>\n",
       "      <th>3</th>\n",
       "      <td>2017-01</td>\n",
       "      <td>3</td>\n",
       "      <td>1</td>\n",
       "      <td>716</td>\n",
       "      <td>0.001397</td>\n",
       "    </tr>\n",
       "    <tr>\n",
       "      <th>4</th>\n",
       "      <td>2017-01</td>\n",
       "      <td>4</td>\n",
       "      <td>3</td>\n",
       "      <td>716</td>\n",
       "      <td>0.004190</td>\n",
       "    </tr>\n",
       "    <tr>\n",
       "      <th>...</th>\n",
       "      <td>...</td>\n",
       "      <td>...</td>\n",
       "      <td>...</td>\n",
       "      <td>...</td>\n",
       "      <td>...</td>\n",
       "    </tr>\n",
       "    <tr>\n",
       "      <th>166</th>\n",
       "      <td>2017-12</td>\n",
       "      <td>4</td>\n",
       "      <td>13</td>\n",
       "      <td>5591</td>\n",
       "      <td>0.002325</td>\n",
       "    </tr>\n",
       "    <tr>\n",
       "      <th>167</th>\n",
       "      <td>2017-12</td>\n",
       "      <td>5</td>\n",
       "      <td>11</td>\n",
       "      <td>5591</td>\n",
       "      <td>0.001967</td>\n",
       "    </tr>\n",
       "    <tr>\n",
       "      <th>168</th>\n",
       "      <td>2017-12</td>\n",
       "      <td>6</td>\n",
       "      <td>9</td>\n",
       "      <td>5591</td>\n",
       "      <td>0.001610</td>\n",
       "    </tr>\n",
       "    <tr>\n",
       "      <th>169</th>\n",
       "      <td>2017-12</td>\n",
       "      <td>7</td>\n",
       "      <td>1</td>\n",
       "      <td>5591</td>\n",
       "      <td>0.000179</td>\n",
       "    </tr>\n",
       "    <tr>\n",
       "      <th>170</th>\n",
       "      <td>2017-12</td>\n",
       "      <td>8</td>\n",
       "      <td>12</td>\n",
       "      <td>5591</td>\n",
       "      <td>0.002146</td>\n",
       "    </tr>\n",
       "  </tbody>\n",
       "</table>\n",
       "<p>171 rows × 5 columns</p>\n",
       "</div>"
      ],
      "text/plain": [
       "    first_order_date  cohort_index  customer_unique_id_x  \\\n",
       "0            2017-01             0                   716   \n",
       "1            2017-01             1                     4   \n",
       "2            2017-01             2                     2   \n",
       "3            2017-01             3                     1   \n",
       "4            2017-01             4                     3   \n",
       "..               ...           ...                   ...   \n",
       "166          2017-12             4                    13   \n",
       "167          2017-12             5                    11   \n",
       "168          2017-12             6                     9   \n",
       "169          2017-12             7                     1   \n",
       "170          2017-12             8                    12   \n",
       "\n",
       "     customer_unique_id_y  retention_rate  \n",
       "0                     716        1.000000  \n",
       "1                     716        0.005587  \n",
       "2                     716        0.002793  \n",
       "3                     716        0.001397  \n",
       "4                     716        0.004190  \n",
       "..                    ...             ...  \n",
       "166                  5591        0.002325  \n",
       "167                  5591        0.001967  \n",
       "168                  5591        0.001610  \n",
       "169                  5591        0.000179  \n",
       "170                  5591        0.002146  \n",
       "\n",
       "[171 rows x 5 columns]"
      ]
     },
     "execution_count": 52,
     "metadata": {},
     "output_type": "execute_result"
    }
   ],
   "source": [
    "retention"
   ]
  },
  {
   "cell_type": "code",
   "execution_count": 53,
   "metadata": {},
   "outputs": [],
   "source": [
    "retention_pivot = retention.pivot(index = 'first_order_date', columns = 'cohort_index', values = 'retention_rate')"
   ]
  },
  {
   "cell_type": "code",
   "execution_count": 54,
   "metadata": {},
   "outputs": [
    {
     "data": {
      "text/html": [
       "<style  type=\"text/css\" >\n",
       "#T_5238dc2c_e2ee_11ee_bdbb_96000040dfb6row0_col0,#T_5238dc2c_e2ee_11ee_bdbb_96000040dfb6row0_col18,#T_5238dc2c_e2ee_11ee_bdbb_96000040dfb6row1_col0,#T_5238dc2c_e2ee_11ee_bdbb_96000040dfb6row1_col5,#T_5238dc2c_e2ee_11ee_bdbb_96000040dfb6row1_col8,#T_5238dc2c_e2ee_11ee_bdbb_96000040dfb6row1_col10,#T_5238dc2c_e2ee_11ee_bdbb_96000040dfb6row1_col15,#T_5238dc2c_e2ee_11ee_bdbb_96000040dfb6row1_col16,#T_5238dc2c_e2ee_11ee_bdbb_96000040dfb6row2_col0,#T_5238dc2c_e2ee_11ee_bdbb_96000040dfb6row2_col17,#T_5238dc2c_e2ee_11ee_bdbb_96000040dfb6row3_col0,#T_5238dc2c_e2ee_11ee_bdbb_96000040dfb6row3_col2,#T_5238dc2c_e2ee_11ee_bdbb_96000040dfb6row3_col12,#T_5238dc2c_e2ee_11ee_bdbb_96000040dfb6row3_col13,#T_5238dc2c_e2ee_11ee_bdbb_96000040dfb6row3_col14,#T_5238dc2c_e2ee_11ee_bdbb_96000040dfb6row4_col0,#T_5238dc2c_e2ee_11ee_bdbb_96000040dfb6row5_col0,#T_5238dc2c_e2ee_11ee_bdbb_96000040dfb6row6_col0,#T_5238dc2c_e2ee_11ee_bdbb_96000040dfb6row7_col0,#T_5238dc2c_e2ee_11ee_bdbb_96000040dfb6row8_col0,#T_5238dc2c_e2ee_11ee_bdbb_96000040dfb6row8_col11,#T_5238dc2c_e2ee_11ee_bdbb_96000040dfb6row9_col0,#T_5238dc2c_e2ee_11ee_bdbb_96000040dfb6row9_col3,#T_5238dc2c_e2ee_11ee_bdbb_96000040dfb6row10_col0,#T_5238dc2c_e2ee_11ee_bdbb_96000040dfb6row10_col4,#T_5238dc2c_e2ee_11ee_bdbb_96000040dfb6row10_col6,#T_5238dc2c_e2ee_11ee_bdbb_96000040dfb6row10_col9,#T_5238dc2c_e2ee_11ee_bdbb_96000040dfb6row11_col0,#T_5238dc2c_e2ee_11ee_bdbb_96000040dfb6row11_col1,#T_5238dc2c_e2ee_11ee_bdbb_96000040dfb6row11_col7{\n",
       "            background-color:  #440154;\n",
       "            color:  #f1f1f1;\n",
       "        }#T_5238dc2c_e2ee_11ee_bdbb_96000040dfb6row0_col1{\n",
       "            background-color:  #4cc26c;\n",
       "            color:  #000000;\n",
       "        }#T_5238dc2c_e2ee_11ee_bdbb_96000040dfb6row0_col2,#T_5238dc2c_e2ee_11ee_bdbb_96000040dfb6row5_col13{\n",
       "            background-color:  #3e4c8a;\n",
       "            color:  #f1f1f1;\n",
       "        }#T_5238dc2c_e2ee_11ee_bdbb_96000040dfb6row0_col3,#T_5238dc2c_e2ee_11ee_bdbb_96000040dfb6row3_col15{\n",
       "            background-color:  #453781;\n",
       "            color:  #f1f1f1;\n",
       "        }#T_5238dc2c_e2ee_11ee_bdbb_96000040dfb6row0_col4,#T_5238dc2c_e2ee_11ee_bdbb_96000040dfb6row0_col12,#T_5238dc2c_e2ee_11ee_bdbb_96000040dfb6row0_col13,#T_5238dc2c_e2ee_11ee_bdbb_96000040dfb6row0_col16,#T_5238dc2c_e2ee_11ee_bdbb_96000040dfb6row0_col17,#T_5238dc2c_e2ee_11ee_bdbb_96000040dfb6row1_col4,#T_5238dc2c_e2ee_11ee_bdbb_96000040dfb6row2_col10,#T_5238dc2c_e2ee_11ee_bdbb_96000040dfb6row2_col15,#T_5238dc2c_e2ee_11ee_bdbb_96000040dfb6row3_col8,#T_5238dc2c_e2ee_11ee_bdbb_96000040dfb6row4_col3,#T_5238dc2c_e2ee_11ee_bdbb_96000040dfb6row4_col6,#T_5238dc2c_e2ee_11ee_bdbb_96000040dfb6row4_col9,#T_5238dc2c_e2ee_11ee_bdbb_96000040dfb6row4_col14,#T_5238dc2c_e2ee_11ee_bdbb_96000040dfb6row5_col11,#T_5238dc2c_e2ee_11ee_bdbb_96000040dfb6row7_col5,#T_5238dc2c_e2ee_11ee_bdbb_96000040dfb6row8_col2,#T_5238dc2c_e2ee_11ee_bdbb_96000040dfb6row9_col1,#T_5238dc2c_e2ee_11ee_bdbb_96000040dfb6row9_col7{\n",
       "            background-color:  #fde725;\n",
       "            color:  #000000;\n",
       "        }#T_5238dc2c_e2ee_11ee_bdbb_96000040dfb6row0_col5,#T_5238dc2c_e2ee_11ee_bdbb_96000040dfb6row3_col11{\n",
       "            background-color:  #471365;\n",
       "            color:  #f1f1f1;\n",
       "        }#T_5238dc2c_e2ee_11ee_bdbb_96000040dfb6row0_col6{\n",
       "            background-color:  #f6e620;\n",
       "            color:  #000000;\n",
       "        }#T_5238dc2c_e2ee_11ee_bdbb_96000040dfb6row0_col7{\n",
       "            background-color:  #2f6c8e;\n",
       "            color:  #f1f1f1;\n",
       "        }#T_5238dc2c_e2ee_11ee_bdbb_96000040dfb6row0_col8{\n",
       "            background-color:  #375a8c;\n",
       "            color:  #f1f1f1;\n",
       "        }#T_5238dc2c_e2ee_11ee_bdbb_96000040dfb6row0_col9,#T_5238dc2c_e2ee_11ee_bdbb_96000040dfb6row3_col17,#T_5238dc2c_e2ee_11ee_bdbb_96000040dfb6row4_col16,#T_5238dc2c_e2ee_11ee_bdbb_96000040dfb6row4_col17,#T_5238dc2c_e2ee_11ee_bdbb_96000040dfb6row5_col15,#T_5238dc2c_e2ee_11ee_bdbb_96000040dfb6row5_col16,#T_5238dc2c_e2ee_11ee_bdbb_96000040dfb6row5_col17,#T_5238dc2c_e2ee_11ee_bdbb_96000040dfb6row6_col14,#T_5238dc2c_e2ee_11ee_bdbb_96000040dfb6row6_col15,#T_5238dc2c_e2ee_11ee_bdbb_96000040dfb6row6_col16,#T_5238dc2c_e2ee_11ee_bdbb_96000040dfb6row6_col17,#T_5238dc2c_e2ee_11ee_bdbb_96000040dfb6row7_col13,#T_5238dc2c_e2ee_11ee_bdbb_96000040dfb6row7_col14,#T_5238dc2c_e2ee_11ee_bdbb_96000040dfb6row7_col15,#T_5238dc2c_e2ee_11ee_bdbb_96000040dfb6row7_col16,#T_5238dc2c_e2ee_11ee_bdbb_96000040dfb6row7_col17,#T_5238dc2c_e2ee_11ee_bdbb_96000040dfb6row8_col12,#T_5238dc2c_e2ee_11ee_bdbb_96000040dfb6row8_col13,#T_5238dc2c_e2ee_11ee_bdbb_96000040dfb6row8_col14,#T_5238dc2c_e2ee_11ee_bdbb_96000040dfb6row8_col15,#T_5238dc2c_e2ee_11ee_bdbb_96000040dfb6row8_col16,#T_5238dc2c_e2ee_11ee_bdbb_96000040dfb6row8_col17,#T_5238dc2c_e2ee_11ee_bdbb_96000040dfb6row9_col11,#T_5238dc2c_e2ee_11ee_bdbb_96000040dfb6row9_col12,#T_5238dc2c_e2ee_11ee_bdbb_96000040dfb6row9_col13,#T_5238dc2c_e2ee_11ee_bdbb_96000040dfb6row9_col14,#T_5238dc2c_e2ee_11ee_bdbb_96000040dfb6row9_col15,#T_5238dc2c_e2ee_11ee_bdbb_96000040dfb6row9_col16,#T_5238dc2c_e2ee_11ee_bdbb_96000040dfb6row9_col17,#T_5238dc2c_e2ee_11ee_bdbb_96000040dfb6row10_col10,#T_5238dc2c_e2ee_11ee_bdbb_96000040dfb6row10_col11,#T_5238dc2c_e2ee_11ee_bdbb_96000040dfb6row10_col12,#T_5238dc2c_e2ee_11ee_bdbb_96000040dfb6row10_col13,#T_5238dc2c_e2ee_11ee_bdbb_96000040dfb6row10_col14,#T_5238dc2c_e2ee_11ee_bdbb_96000040dfb6row10_col15,#T_5238dc2c_e2ee_11ee_bdbb_96000040dfb6row10_col16,#T_5238dc2c_e2ee_11ee_bdbb_96000040dfb6row10_col17,#T_5238dc2c_e2ee_11ee_bdbb_96000040dfb6row11_col9,#T_5238dc2c_e2ee_11ee_bdbb_96000040dfb6row11_col10,#T_5238dc2c_e2ee_11ee_bdbb_96000040dfb6row11_col11,#T_5238dc2c_e2ee_11ee_bdbb_96000040dfb6row11_col12,#T_5238dc2c_e2ee_11ee_bdbb_96000040dfb6row11_col13,#T_5238dc2c_e2ee_11ee_bdbb_96000040dfb6row11_col14,#T_5238dc2c_e2ee_11ee_bdbb_96000040dfb6row11_col15,#T_5238dc2c_e2ee_11ee_bdbb_96000040dfb6row11_col16,#T_5238dc2c_e2ee_11ee_bdbb_96000040dfb6row11_col17{\n",
       "            background-color:  #000000;\n",
       "            color:  #f1f1f1;\n",
       "            background-color:  black;\n",
       "        }#T_5238dc2c_e2ee_11ee_bdbb_96000040dfb6row0_col10,#T_5238dc2c_e2ee_11ee_bdbb_96000040dfb6row2_col1{\n",
       "            background-color:  #22a785;\n",
       "            color:  #000000;\n",
       "        }#T_5238dc2c_e2ee_11ee_bdbb_96000040dfb6row0_col11{\n",
       "            background-color:  #56c667;\n",
       "            color:  #000000;\n",
       "        }#T_5238dc2c_e2ee_11ee_bdbb_96000040dfb6row0_col14,#T_5238dc2c_e2ee_11ee_bdbb_96000040dfb6row5_col1{\n",
       "            background-color:  #228b8d;\n",
       "            color:  #000000;\n",
       "        }#T_5238dc2c_e2ee_11ee_bdbb_96000040dfb6row0_col15,#T_5238dc2c_e2ee_11ee_bdbb_96000040dfb6row1_col7,#T_5238dc2c_e2ee_11ee_bdbb_96000040dfb6row7_col6{\n",
       "            background-color:  #24878e;\n",
       "            color:  #000000;\n",
       "        }#T_5238dc2c_e2ee_11ee_bdbb_96000040dfb6row1_col1{\n",
       "            background-color:  #450559;\n",
       "            color:  #f1f1f1;\n",
       "        }#T_5238dc2c_e2ee_11ee_bdbb_96000040dfb6row1_col2,#T_5238dc2c_e2ee_11ee_bdbb_96000040dfb6row2_col16{\n",
       "            background-color:  #481d6f;\n",
       "            color:  #f1f1f1;\n",
       "        }#T_5238dc2c_e2ee_11ee_bdbb_96000040dfb6row1_col3{\n",
       "            background-color:  #365c8d;\n",
       "            color:  #f1f1f1;\n",
       "        }#T_5238dc2c_e2ee_11ee_bdbb_96000040dfb6row1_col6{\n",
       "            background-color:  #2c728e;\n",
       "            color:  #f1f1f1;\n",
       "        }#T_5238dc2c_e2ee_11ee_bdbb_96000040dfb6row1_col9,#T_5238dc2c_e2ee_11ee_bdbb_96000040dfb6row5_col7{\n",
       "            background-color:  #21a685;\n",
       "            color:  #000000;\n",
       "        }#T_5238dc2c_e2ee_11ee_bdbb_96000040dfb6row1_col11{\n",
       "            background-color:  #7cd250;\n",
       "            color:  #000000;\n",
       "        }#T_5238dc2c_e2ee_11ee_bdbb_96000040dfb6row1_col12{\n",
       "            background-color:  #481467;\n",
       "            color:  #f1f1f1;\n",
       "        }#T_5238dc2c_e2ee_11ee_bdbb_96000040dfb6row1_col13{\n",
       "            background-color:  #2e6f8e;\n",
       "            color:  #f1f1f1;\n",
       "        }#T_5238dc2c_e2ee_11ee_bdbb_96000040dfb6row1_col14{\n",
       "            background-color:  #355e8d;\n",
       "            color:  #f1f1f1;\n",
       "        }#T_5238dc2c_e2ee_11ee_bdbb_96000040dfb6row1_col17{\n",
       "            background-color:  #32648e;\n",
       "            color:  #f1f1f1;\n",
       "        }#T_5238dc2c_e2ee_11ee_bdbb_96000040dfb6row1_col18,#T_5238dc2c_e2ee_11ee_bdbb_96000040dfb6row2_col18,#T_5238dc2c_e2ee_11ee_bdbb_96000040dfb6row3_col18,#T_5238dc2c_e2ee_11ee_bdbb_96000040dfb6row4_col18,#T_5238dc2c_e2ee_11ee_bdbb_96000040dfb6row5_col18,#T_5238dc2c_e2ee_11ee_bdbb_96000040dfb6row6_col18,#T_5238dc2c_e2ee_11ee_bdbb_96000040dfb6row7_col18,#T_5238dc2c_e2ee_11ee_bdbb_96000040dfb6row8_col18,#T_5238dc2c_e2ee_11ee_bdbb_96000040dfb6row9_col18,#T_5238dc2c_e2ee_11ee_bdbb_96000040dfb6row10_col18,#T_5238dc2c_e2ee_11ee_bdbb_96000040dfb6row11_col18{\n",
       "            background-color:  #440154;\n",
       "            color:  #f1f1f1;\n",
       "            background-color:  black;\n",
       "        }#T_5238dc2c_e2ee_11ee_bdbb_96000040dfb6row2_col2{\n",
       "            background-color:  #228d8d;\n",
       "            color:  #000000;\n",
       "        }#T_5238dc2c_e2ee_11ee_bdbb_96000040dfb6row2_col3,#T_5238dc2c_e2ee_11ee_bdbb_96000040dfb6row7_col4{\n",
       "            background-color:  #98d83e;\n",
       "            color:  #000000;\n",
       "        }#T_5238dc2c_e2ee_11ee_bdbb_96000040dfb6row2_col4{\n",
       "            background-color:  #3bbb75;\n",
       "            color:  #000000;\n",
       "        }#T_5238dc2c_e2ee_11ee_bdbb_96000040dfb6row2_col5,#T_5238dc2c_e2ee_11ee_bdbb_96000040dfb6row10_col5{\n",
       "            background-color:  #482071;\n",
       "            color:  #f1f1f1;\n",
       "        }#T_5238dc2c_e2ee_11ee_bdbb_96000040dfb6row2_col6{\n",
       "            background-color:  #482173;\n",
       "            color:  #f1f1f1;\n",
       "        }#T_5238dc2c_e2ee_11ee_bdbb_96000040dfb6row2_col7{\n",
       "            background-color:  #93d741;\n",
       "            color:  #000000;\n",
       "        }#T_5238dc2c_e2ee_11ee_bdbb_96000040dfb6row2_col8{\n",
       "            background-color:  #a8db34;\n",
       "            color:  #000000;\n",
       "        }#T_5238dc2c_e2ee_11ee_bdbb_96000040dfb6row2_col9{\n",
       "            background-color:  #3b518b;\n",
       "            color:  #f1f1f1;\n",
       "        }#T_5238dc2c_e2ee_11ee_bdbb_96000040dfb6row2_col11,#T_5238dc2c_e2ee_11ee_bdbb_96000040dfb6row9_col5,#T_5238dc2c_e2ee_11ee_bdbb_96000040dfb6row11_col4{\n",
       "            background-color:  #453581;\n",
       "            color:  #f1f1f1;\n",
       "        }#T_5238dc2c_e2ee_11ee_bdbb_96000040dfb6row2_col12{\n",
       "            background-color:  #3d4e8a;\n",
       "            color:  #f1f1f1;\n",
       "        }#T_5238dc2c_e2ee_11ee_bdbb_96000040dfb6row2_col13{\n",
       "            background-color:  #424186;\n",
       "            color:  #f1f1f1;\n",
       "        }#T_5238dc2c_e2ee_11ee_bdbb_96000040dfb6row2_col14{\n",
       "            background-color:  #25ac82;\n",
       "            color:  #000000;\n",
       "        }#T_5238dc2c_e2ee_11ee_bdbb_96000040dfb6row3_col1{\n",
       "            background-color:  #8bd646;\n",
       "            color:  #000000;\n",
       "        }#T_5238dc2c_e2ee_11ee_bdbb_96000040dfb6row3_col3{\n",
       "            background-color:  #38588c;\n",
       "            color:  #f1f1f1;\n",
       "        }#T_5238dc2c_e2ee_11ee_bdbb_96000040dfb6row3_col4{\n",
       "            background-color:  #375b8d;\n",
       "            color:  #f1f1f1;\n",
       "        }#T_5238dc2c_e2ee_11ee_bdbb_96000040dfb6row3_col5,#T_5238dc2c_e2ee_11ee_bdbb_96000040dfb6row6_col10{\n",
       "            background-color:  #2f6b8e;\n",
       "            color:  #f1f1f1;\n",
       "        }#T_5238dc2c_e2ee_11ee_bdbb_96000040dfb6row3_col6{\n",
       "            background-color:  #5ac864;\n",
       "            color:  #000000;\n",
       "        }#T_5238dc2c_e2ee_11ee_bdbb_96000040dfb6row3_col7{\n",
       "            background-color:  #42be71;\n",
       "            color:  #000000;\n",
       "        }#T_5238dc2c_e2ee_11ee_bdbb_96000040dfb6row3_col9{\n",
       "            background-color:  #1f9f88;\n",
       "            color:  #000000;\n",
       "        }#T_5238dc2c_e2ee_11ee_bdbb_96000040dfb6row3_col10,#T_5238dc2c_e2ee_11ee_bdbb_96000040dfb6row8_col5{\n",
       "            background-color:  #2d708e;\n",
       "            color:  #f1f1f1;\n",
       "        }#T_5238dc2c_e2ee_11ee_bdbb_96000040dfb6row3_col16{\n",
       "            background-color:  #32658e;\n",
       "            color:  #f1f1f1;\n",
       "        }#T_5238dc2c_e2ee_11ee_bdbb_96000040dfb6row4_col1{\n",
       "            background-color:  #35b779;\n",
       "            color:  #000000;\n",
       "        }#T_5238dc2c_e2ee_11ee_bdbb_96000040dfb6row4_col2,#T_5238dc2c_e2ee_11ee_bdbb_96000040dfb6row5_col3,#T_5238dc2c_e2ee_11ee_bdbb_96000040dfb6row7_col1{\n",
       "            background-color:  #ece51b;\n",
       "            color:  #000000;\n",
       "        }#T_5238dc2c_e2ee_11ee_bdbb_96000040dfb6row4_col4{\n",
       "            background-color:  #20928c;\n",
       "            color:  #000000;\n",
       "        }#T_5238dc2c_e2ee_11ee_bdbb_96000040dfb6row4_col5,#T_5238dc2c_e2ee_11ee_bdbb_96000040dfb6row7_col9{\n",
       "            background-color:  #1f988b;\n",
       "            color:  #000000;\n",
       "        }#T_5238dc2c_e2ee_11ee_bdbb_96000040dfb6row4_col7{\n",
       "            background-color:  #2e6d8e;\n",
       "            color:  #f1f1f1;\n",
       "        }#T_5238dc2c_e2ee_11ee_bdbb_96000040dfb6row4_col8{\n",
       "            background-color:  #38b977;\n",
       "            color:  #000000;\n",
       "        }#T_5238dc2c_e2ee_11ee_bdbb_96000040dfb6row4_col10{\n",
       "            background-color:  #24aa83;\n",
       "            color:  #000000;\n",
       "        }#T_5238dc2c_e2ee_11ee_bdbb_96000040dfb6row4_col11{\n",
       "            background-color:  #dde318;\n",
       "            color:  #000000;\n",
       "        }#T_5238dc2c_e2ee_11ee_bdbb_96000040dfb6row4_col12{\n",
       "            background-color:  #433e85;\n",
       "            color:  #f1f1f1;\n",
       "        }#T_5238dc2c_e2ee_11ee_bdbb_96000040dfb6row4_col13{\n",
       "            background-color:  #470d60;\n",
       "            color:  #f1f1f1;\n",
       "        }#T_5238dc2c_e2ee_11ee_bdbb_96000040dfb6row4_col15,#T_5238dc2c_e2ee_11ee_bdbb_96000040dfb6row5_col14{\n",
       "            background-color:  #e5e419;\n",
       "            color:  #000000;\n",
       "        }#T_5238dc2c_e2ee_11ee_bdbb_96000040dfb6row5_col2{\n",
       "            background-color:  #21918c;\n",
       "            color:  #000000;\n",
       "        }#T_5238dc2c_e2ee_11ee_bdbb_96000040dfb6row5_col4{\n",
       "            background-color:  #39568c;\n",
       "            color:  #f1f1f1;\n",
       "        }#T_5238dc2c_e2ee_11ee_bdbb_96000040dfb6row5_col5,#T_5238dc2c_e2ee_11ee_bdbb_96000040dfb6row7_col3{\n",
       "            background-color:  #1fa187;\n",
       "            color:  #000000;\n",
       "        }#T_5238dc2c_e2ee_11ee_bdbb_96000040dfb6row5_col6{\n",
       "            background-color:  #65cb5e;\n",
       "            color:  #000000;\n",
       "        }#T_5238dc2c_e2ee_11ee_bdbb_96000040dfb6row5_col8{\n",
       "            background-color:  #3c4f8a;\n",
       "            color:  #f1f1f1;\n",
       "        }#T_5238dc2c_e2ee_11ee_bdbb_96000040dfb6row5_col9{\n",
       "            background-color:  #95d840;\n",
       "            color:  #000000;\n",
       "        }#T_5238dc2c_e2ee_11ee_bdbb_96000040dfb6row5_col10{\n",
       "            background-color:  #5ec962;\n",
       "            color:  #000000;\n",
       "        }#T_5238dc2c_e2ee_11ee_bdbb_96000040dfb6row5_col12{\n",
       "            background-color:  #472a7a;\n",
       "            color:  #f1f1f1;\n",
       "        }#T_5238dc2c_e2ee_11ee_bdbb_96000040dfb6row6_col1{\n",
       "            background-color:  #2fb47c;\n",
       "            color:  #000000;\n",
       "        }#T_5238dc2c_e2ee_11ee_bdbb_96000040dfb6row6_col2{\n",
       "            background-color:  #2d718e;\n",
       "            color:  #f1f1f1;\n",
       "        }#T_5238dc2c_e2ee_11ee_bdbb_96000040dfb6row6_col3,#T_5238dc2c_e2ee_11ee_bdbb_96000040dfb6row8_col6{\n",
       "            background-color:  #33628d;\n",
       "            color:  #f1f1f1;\n",
       "        }#T_5238dc2c_e2ee_11ee_bdbb_96000040dfb6row6_col4{\n",
       "            background-color:  #34b679;\n",
       "            color:  #000000;\n",
       "        }#T_5238dc2c_e2ee_11ee_bdbb_96000040dfb6row6_col5{\n",
       "            background-color:  #453882;\n",
       "            color:  #f1f1f1;\n",
       "        }#T_5238dc2c_e2ee_11ee_bdbb_96000040dfb6row6_col6{\n",
       "            background-color:  #2db27d;\n",
       "            color:  #000000;\n",
       "        }#T_5238dc2c_e2ee_11ee_bdbb_96000040dfb6row6_col7{\n",
       "            background-color:  #3b528b;\n",
       "            color:  #f1f1f1;\n",
       "        }#T_5238dc2c_e2ee_11ee_bdbb_96000040dfb6row6_col8{\n",
       "            background-color:  #26818e;\n",
       "            color:  #000000;\n",
       "        }#T_5238dc2c_e2ee_11ee_bdbb_96000040dfb6row6_col9{\n",
       "            background-color:  #c8e020;\n",
       "            color:  #000000;\n",
       "        }#T_5238dc2c_e2ee_11ee_bdbb_96000040dfb6row6_col11{\n",
       "            background-color:  #6ece58;\n",
       "            color:  #000000;\n",
       "        }#T_5238dc2c_e2ee_11ee_bdbb_96000040dfb6row6_col12{\n",
       "            background-color:  #481c6e;\n",
       "            color:  #f1f1f1;\n",
       "        }#T_5238dc2c_e2ee_11ee_bdbb_96000040dfb6row6_col13{\n",
       "            background-color:  #21a585;\n",
       "            color:  #000000;\n",
       "        }#T_5238dc2c_e2ee_11ee_bdbb_96000040dfb6row7_col2{\n",
       "            background-color:  #1f978b;\n",
       "            color:  #000000;\n",
       "        }#T_5238dc2c_e2ee_11ee_bdbb_96000040dfb6row7_col7{\n",
       "            background-color:  #48c16e;\n",
       "            color:  #000000;\n",
       "        }#T_5238dc2c_e2ee_11ee_bdbb_96000040dfb6row7_col8{\n",
       "            background-color:  #404688;\n",
       "            color:  #f1f1f1;\n",
       "        }#T_5238dc2c_e2ee_11ee_bdbb_96000040dfb6row7_col10{\n",
       "            background-color:  #25848e;\n",
       "            color:  #000000;\n",
       "        }#T_5238dc2c_e2ee_11ee_bdbb_96000040dfb6row7_col11{\n",
       "            background-color:  #30698e;\n",
       "            color:  #f1f1f1;\n",
       "        }#T_5238dc2c_e2ee_11ee_bdbb_96000040dfb6row7_col12{\n",
       "            background-color:  #482374;\n",
       "            color:  #f1f1f1;\n",
       "        }#T_5238dc2c_e2ee_11ee_bdbb_96000040dfb6row8_col1{\n",
       "            background-color:  #d5e21a;\n",
       "            color:  #000000;\n",
       "        }#T_5238dc2c_e2ee_11ee_bdbb_96000040dfb6row8_col3{\n",
       "            background-color:  #89d548;\n",
       "            color:  #000000;\n",
       "        }#T_5238dc2c_e2ee_11ee_bdbb_96000040dfb6row8_col4{\n",
       "            background-color:  #f4e61e;\n",
       "            color:  #000000;\n",
       "        }#T_5238dc2c_e2ee_11ee_bdbb_96000040dfb6row8_col7{\n",
       "            background-color:  #1fa287;\n",
       "            color:  #000000;\n",
       "        }#T_5238dc2c_e2ee_11ee_bdbb_96000040dfb6row8_col8{\n",
       "            background-color:  #b8de29;\n",
       "            color:  #000000;\n",
       "        }#T_5238dc2c_e2ee_11ee_bdbb_96000040dfb6row8_col9{\n",
       "            background-color:  #1e9b8a;\n",
       "            color:  #000000;\n",
       "        }#T_5238dc2c_e2ee_11ee_bdbb_96000040dfb6row8_col10{\n",
       "            background-color:  #1f9e89;\n",
       "            color:  #000000;\n",
       "        }#T_5238dc2c_e2ee_11ee_bdbb_96000040dfb6row9_col2{\n",
       "            background-color:  #355f8d;\n",
       "            color:  #f1f1f1;\n",
       "        }#T_5238dc2c_e2ee_11ee_bdbb_96000040dfb6row9_col4{\n",
       "            background-color:  #46307e;\n",
       "            color:  #f1f1f1;\n",
       "        }#T_5238dc2c_e2ee_11ee_bdbb_96000040dfb6row9_col6{\n",
       "            background-color:  #287d8e;\n",
       "            color:  #000000;\n",
       "        }#T_5238dc2c_e2ee_11ee_bdbb_96000040dfb6row9_col8{\n",
       "            background-color:  #5cc863;\n",
       "            color:  #000000;\n",
       "        }#T_5238dc2c_e2ee_11ee_bdbb_96000040dfb6row9_col9{\n",
       "            background-color:  #58c765;\n",
       "            color:  #000000;\n",
       "        }#T_5238dc2c_e2ee_11ee_bdbb_96000040dfb6row9_col10{\n",
       "            background-color:  #31668e;\n",
       "            color:  #f1f1f1;\n",
       "        }#T_5238dc2c_e2ee_11ee_bdbb_96000040dfb6row10_col1{\n",
       "            background-color:  #46c06f;\n",
       "            color:  #000000;\n",
       "        }#T_5238dc2c_e2ee_11ee_bdbb_96000040dfb6row10_col2{\n",
       "            background-color:  #25ab82;\n",
       "            color:  #000000;\n",
       "        }#T_5238dc2c_e2ee_11ee_bdbb_96000040dfb6row10_col3{\n",
       "            background-color:  #3f4788;\n",
       "            color:  #f1f1f1;\n",
       "        }#T_5238dc2c_e2ee_11ee_bdbb_96000040dfb6row10_col7{\n",
       "            background-color:  #1f948c;\n",
       "            color:  #000000;\n",
       "        }#T_5238dc2c_e2ee_11ee_bdbb_96000040dfb6row10_col8{\n",
       "            background-color:  #423f85;\n",
       "            color:  #f1f1f1;\n",
       "        }#T_5238dc2c_e2ee_11ee_bdbb_96000040dfb6row11_col2,#T_5238dc2c_e2ee_11ee_bdbb_96000040dfb6row11_col5{\n",
       "            background-color:  #424086;\n",
       "            color:  #f1f1f1;\n",
       "        }#T_5238dc2c_e2ee_11ee_bdbb_96000040dfb6row11_col3{\n",
       "            background-color:  #63cb5f;\n",
       "            color:  #000000;\n",
       "        }#T_5238dc2c_e2ee_11ee_bdbb_96000040dfb6row11_col6{\n",
       "            background-color:  #482878;\n",
       "            color:  #f1f1f1;\n",
       "        }#T_5238dc2c_e2ee_11ee_bdbb_96000040dfb6row11_col8{\n",
       "            background-color:  #1f998a;\n",
       "            color:  #000000;\n",
       "        }</style><table id=\"T_5238dc2c_e2ee_11ee_bdbb_96000040dfb6\" ><caption>retention</caption><thead>    <tr>        <th class=\"index_name level0\" >cohort_index</th>        <th class=\"col_heading level0 col0\" >0</th>        <th class=\"col_heading level0 col1\" >1</th>        <th class=\"col_heading level0 col2\" >2</th>        <th class=\"col_heading level0 col3\" >3</th>        <th class=\"col_heading level0 col4\" >4</th>        <th class=\"col_heading level0 col5\" >5</th>        <th class=\"col_heading level0 col6\" >6</th>        <th class=\"col_heading level0 col7\" >7</th>        <th class=\"col_heading level0 col8\" >8</th>        <th class=\"col_heading level0 col9\" >9</th>        <th class=\"col_heading level0 col10\" >10</th>        <th class=\"col_heading level0 col11\" >11</th>        <th class=\"col_heading level0 col12\" >12</th>        <th class=\"col_heading level0 col13\" >13</th>        <th class=\"col_heading level0 col14\" >14</th>        <th class=\"col_heading level0 col15\" >15</th>        <th class=\"col_heading level0 col16\" >16</th>        <th class=\"col_heading level0 col17\" >17</th>        <th class=\"col_heading level0 col18\" >19</th>    </tr>    <tr>        <th class=\"index_name level0\" >first_order_date</th>        <th class=\"blank\" ></th>        <th class=\"blank\" ></th>        <th class=\"blank\" ></th>        <th class=\"blank\" ></th>        <th class=\"blank\" ></th>        <th class=\"blank\" ></th>        <th class=\"blank\" ></th>        <th class=\"blank\" ></th>        <th class=\"blank\" ></th>        <th class=\"blank\" ></th>        <th class=\"blank\" ></th>        <th class=\"blank\" ></th>        <th class=\"blank\" ></th>        <th class=\"blank\" ></th>        <th class=\"blank\" ></th>        <th class=\"blank\" ></th>        <th class=\"blank\" ></th>        <th class=\"blank\" ></th>        <th class=\"blank\" ></th>    </tr></thead><tbody>\n",
       "                <tr>\n",
       "                        <th id=\"T_5238dc2c_e2ee_11ee_bdbb_96000040dfb6level0_row0\" class=\"row_heading level0 row0\" >2017-01</th>\n",
       "                        <td id=\"T_5238dc2c_e2ee_11ee_bdbb_96000040dfb6row0_col0\" class=\"data row0 col0\" >100.00%</td>\n",
       "                        <td id=\"T_5238dc2c_e2ee_11ee_bdbb_96000040dfb6row0_col1\" class=\"data row0 col1\" >0.56%</td>\n",
       "                        <td id=\"T_5238dc2c_e2ee_11ee_bdbb_96000040dfb6row0_col2\" class=\"data row0 col2\" >0.28%</td>\n",
       "                        <td id=\"T_5238dc2c_e2ee_11ee_bdbb_96000040dfb6row0_col3\" class=\"data row0 col3\" >0.14%</td>\n",
       "                        <td id=\"T_5238dc2c_e2ee_11ee_bdbb_96000040dfb6row0_col4\" class=\"data row0 col4\" >0.42%</td>\n",
       "                        <td id=\"T_5238dc2c_e2ee_11ee_bdbb_96000040dfb6row0_col5\" class=\"data row0 col5\" >0.14%</td>\n",
       "                        <td id=\"T_5238dc2c_e2ee_11ee_bdbb_96000040dfb6row0_col6\" class=\"data row0 col6\" >0.42%</td>\n",
       "                        <td id=\"T_5238dc2c_e2ee_11ee_bdbb_96000040dfb6row0_col7\" class=\"data row0 col7\" >0.14%</td>\n",
       "                        <td id=\"T_5238dc2c_e2ee_11ee_bdbb_96000040dfb6row0_col8\" class=\"data row0 col8\" >0.14%</td>\n",
       "                        <td id=\"T_5238dc2c_e2ee_11ee_bdbb_96000040dfb6row0_col9\" class=\"data row0 col9\" ></td>\n",
       "                        <td id=\"T_5238dc2c_e2ee_11ee_bdbb_96000040dfb6row0_col10\" class=\"data row0 col10\" >0.28%</td>\n",
       "                        <td id=\"T_5238dc2c_e2ee_11ee_bdbb_96000040dfb6row0_col11\" class=\"data row0 col11\" >0.28%</td>\n",
       "                        <td id=\"T_5238dc2c_e2ee_11ee_bdbb_96000040dfb6row0_col12\" class=\"data row0 col12\" >0.70%</td>\n",
       "                        <td id=\"T_5238dc2c_e2ee_11ee_bdbb_96000040dfb6row0_col13\" class=\"data row0 col13\" >0.42%</td>\n",
       "                        <td id=\"T_5238dc2c_e2ee_11ee_bdbb_96000040dfb6row0_col14\" class=\"data row0 col14\" >0.14%</td>\n",
       "                        <td id=\"T_5238dc2c_e2ee_11ee_bdbb_96000040dfb6row0_col15\" class=\"data row0 col15\" >0.14%</td>\n",
       "                        <td id=\"T_5238dc2c_e2ee_11ee_bdbb_96000040dfb6row0_col16\" class=\"data row0 col16\" >0.28%</td>\n",
       "                        <td id=\"T_5238dc2c_e2ee_11ee_bdbb_96000040dfb6row0_col17\" class=\"data row0 col17\" >0.42%</td>\n",
       "                        <td id=\"T_5238dc2c_e2ee_11ee_bdbb_96000040dfb6row0_col18\" class=\"data row0 col18\" >0.14%</td>\n",
       "            </tr>\n",
       "            <tr>\n",
       "                        <th id=\"T_5238dc2c_e2ee_11ee_bdbb_96000040dfb6level0_row1\" class=\"row_heading level0 row1\" >2017-02</th>\n",
       "                        <td id=\"T_5238dc2c_e2ee_11ee_bdbb_96000040dfb6row1_col0\" class=\"data row1 col0\" >100.00%</td>\n",
       "                        <td id=\"T_5238dc2c_e2ee_11ee_bdbb_96000040dfb6row1_col1\" class=\"data row1 col1\" >0.24%</td>\n",
       "                        <td id=\"T_5238dc2c_e2ee_11ee_bdbb_96000040dfb6row1_col2\" class=\"data row1 col2\" >0.24%</td>\n",
       "                        <td id=\"T_5238dc2c_e2ee_11ee_bdbb_96000040dfb6row1_col3\" class=\"data row1 col3\" >0.18%</td>\n",
       "                        <td id=\"T_5238dc2c_e2ee_11ee_bdbb_96000040dfb6row1_col4\" class=\"data row1 col4\" >0.42%</td>\n",
       "                        <td id=\"T_5238dc2c_e2ee_11ee_bdbb_96000040dfb6row1_col5\" class=\"data row1 col5\" >0.12%</td>\n",
       "                        <td id=\"T_5238dc2c_e2ee_11ee_bdbb_96000040dfb6row1_col6\" class=\"data row1 col6\" >0.24%</td>\n",
       "                        <td id=\"T_5238dc2c_e2ee_11ee_bdbb_96000040dfb6row1_col7\" class=\"data row1 col7\" >0.18%</td>\n",
       "                        <td id=\"T_5238dc2c_e2ee_11ee_bdbb_96000040dfb6row1_col8\" class=\"data row1 col8\" >0.06%</td>\n",
       "                        <td id=\"T_5238dc2c_e2ee_11ee_bdbb_96000040dfb6row1_col9\" class=\"data row1 col9\" >0.18%</td>\n",
       "                        <td id=\"T_5238dc2c_e2ee_11ee_bdbb_96000040dfb6row1_col10\" class=\"data row1 col10\" >0.12%</td>\n",
       "                        <td id=\"T_5238dc2c_e2ee_11ee_bdbb_96000040dfb6row1_col11\" class=\"data row1 col11\" >0.30%</td>\n",
       "                        <td id=\"T_5238dc2c_e2ee_11ee_bdbb_96000040dfb6row1_col12\" class=\"data row1 col12\" >0.12%</td>\n",
       "                        <td id=\"T_5238dc2c_e2ee_11ee_bdbb_96000040dfb6row1_col13\" class=\"data row1 col13\" >0.18%</td>\n",
       "                        <td id=\"T_5238dc2c_e2ee_11ee_bdbb_96000040dfb6row1_col14\" class=\"data row1 col14\" >0.12%</td>\n",
       "                        <td id=\"T_5238dc2c_e2ee_11ee_bdbb_96000040dfb6row1_col15\" class=\"data row1 col15\" >0.06%</td>\n",
       "                        <td id=\"T_5238dc2c_e2ee_11ee_bdbb_96000040dfb6row1_col16\" class=\"data row1 col16\" >0.06%</td>\n",
       "                        <td id=\"T_5238dc2c_e2ee_11ee_bdbb_96000040dfb6row1_col17\" class=\"data row1 col17\" >0.24%</td>\n",
       "                        <td id=\"T_5238dc2c_e2ee_11ee_bdbb_96000040dfb6row1_col18\" class=\"data row1 col18\" ></td>\n",
       "            </tr>\n",
       "            <tr>\n",
       "                        <th id=\"T_5238dc2c_e2ee_11ee_bdbb_96000040dfb6level0_row2\" class=\"row_heading level0 row2\" >2017-03</th>\n",
       "                        <td id=\"T_5238dc2c_e2ee_11ee_bdbb_96000040dfb6row2_col0\" class=\"data row2 col0\" >100.00%</td>\n",
       "                        <td id=\"T_5238dc2c_e2ee_11ee_bdbb_96000040dfb6row2_col1\" class=\"data row2 col1\" >0.50%</td>\n",
       "                        <td id=\"T_5238dc2c_e2ee_11ee_bdbb_96000040dfb6row2_col2\" class=\"data row2 col2\" >0.35%</td>\n",
       "                        <td id=\"T_5238dc2c_e2ee_11ee_bdbb_96000040dfb6row2_col3\" class=\"data row2 col3\" >0.35%</td>\n",
       "                        <td id=\"T_5238dc2c_e2ee_11ee_bdbb_96000040dfb6row2_col4\" class=\"data row2 col4\" >0.35%</td>\n",
       "                        <td id=\"T_5238dc2c_e2ee_11ee_bdbb_96000040dfb6row2_col5\" class=\"data row2 col5\" >0.16%</td>\n",
       "                        <td id=\"T_5238dc2c_e2ee_11ee_bdbb_96000040dfb6row2_col6\" class=\"data row2 col6\" >0.16%</td>\n",
       "                        <td id=\"T_5238dc2c_e2ee_11ee_bdbb_96000040dfb6row2_col7\" class=\"data row2 col7\" >0.31%</td>\n",
       "                        <td id=\"T_5238dc2c_e2ee_11ee_bdbb_96000040dfb6row2_col8\" class=\"data row2 col8\" >0.31%</td>\n",
       "                        <td id=\"T_5238dc2c_e2ee_11ee_bdbb_96000040dfb6row2_col9\" class=\"data row2 col9\" >0.12%</td>\n",
       "                        <td id=\"T_5238dc2c_e2ee_11ee_bdbb_96000040dfb6row2_col10\" class=\"data row2 col10\" >0.39%</td>\n",
       "                        <td id=\"T_5238dc2c_e2ee_11ee_bdbb_96000040dfb6row2_col11\" class=\"data row2 col11\" >0.12%</td>\n",
       "                        <td id=\"T_5238dc2c_e2ee_11ee_bdbb_96000040dfb6row2_col12\" class=\"data row2 col12\" >0.23%</td>\n",
       "                        <td id=\"T_5238dc2c_e2ee_11ee_bdbb_96000040dfb6row2_col13\" class=\"data row2 col13\" >0.12%</td>\n",
       "                        <td id=\"T_5238dc2c_e2ee_11ee_bdbb_96000040dfb6row2_col14\" class=\"data row2 col14\" >0.16%</td>\n",
       "                        <td id=\"T_5238dc2c_e2ee_11ee_bdbb_96000040dfb6row2_col15\" class=\"data row2 col15\" >0.23%</td>\n",
       "                        <td id=\"T_5238dc2c_e2ee_11ee_bdbb_96000040dfb6row2_col16\" class=\"data row2 col16\" >0.08%</td>\n",
       "                        <td id=\"T_5238dc2c_e2ee_11ee_bdbb_96000040dfb6row2_col17\" class=\"data row2 col17\" >0.16%</td>\n",
       "                        <td id=\"T_5238dc2c_e2ee_11ee_bdbb_96000040dfb6row2_col18\" class=\"data row2 col18\" ></td>\n",
       "            </tr>\n",
       "            <tr>\n",
       "                        <th id=\"T_5238dc2c_e2ee_11ee_bdbb_96000040dfb6level0_row3\" class=\"row_heading level0 row3\" >2017-04</th>\n",
       "                        <td id=\"T_5238dc2c_e2ee_11ee_bdbb_96000040dfb6row3_col0\" class=\"data row3 col0\" >100.00%</td>\n",
       "                        <td id=\"T_5238dc2c_e2ee_11ee_bdbb_96000040dfb6row3_col1\" class=\"data row3 col1\" >0.61%</td>\n",
       "                        <td id=\"T_5238dc2c_e2ee_11ee_bdbb_96000040dfb6row3_col2\" class=\"data row3 col2\" >0.22%</td>\n",
       "                        <td id=\"T_5238dc2c_e2ee_11ee_bdbb_96000040dfb6row3_col3\" class=\"data row3 col3\" >0.17%</td>\n",
       "                        <td id=\"T_5238dc2c_e2ee_11ee_bdbb_96000040dfb6row3_col4\" class=\"data row3 col4\" >0.26%</td>\n",
       "                        <td id=\"T_5238dc2c_e2ee_11ee_bdbb_96000040dfb6row3_col5\" class=\"data row3 col5\" >0.26%</td>\n",
       "                        <td id=\"T_5238dc2c_e2ee_11ee_bdbb_96000040dfb6row3_col6\" class=\"data row3 col6\" >0.35%</td>\n",
       "                        <td id=\"T_5238dc2c_e2ee_11ee_bdbb_96000040dfb6row3_col7\" class=\"data row3 col7\" >0.26%</td>\n",
       "                        <td id=\"T_5238dc2c_e2ee_11ee_bdbb_96000040dfb6row3_col8\" class=\"data row3 col8\" >0.35%</td>\n",
       "                        <td id=\"T_5238dc2c_e2ee_11ee_bdbb_96000040dfb6row3_col9\" class=\"data row3 col9\" >0.17%</td>\n",
       "                        <td id=\"T_5238dc2c_e2ee_11ee_bdbb_96000040dfb6row3_col10\" class=\"data row3 col10\" >0.22%</td>\n",
       "                        <td id=\"T_5238dc2c_e2ee_11ee_bdbb_96000040dfb6row3_col11\" class=\"data row3 col11\" >0.09%</td>\n",
       "                        <td id=\"T_5238dc2c_e2ee_11ee_bdbb_96000040dfb6row3_col12\" class=\"data row3 col12\" >0.09%</td>\n",
       "                        <td id=\"T_5238dc2c_e2ee_11ee_bdbb_96000040dfb6row3_col13\" class=\"data row3 col13\" >0.04%</td>\n",
       "                        <td id=\"T_5238dc2c_e2ee_11ee_bdbb_96000040dfb6row3_col14\" class=\"data row3 col14\" >0.09%</td>\n",
       "                        <td id=\"T_5238dc2c_e2ee_11ee_bdbb_96000040dfb6row3_col15\" class=\"data row3 col15\" >0.09%</td>\n",
       "                        <td id=\"T_5238dc2c_e2ee_11ee_bdbb_96000040dfb6row3_col16\" class=\"data row3 col16\" >0.13%</td>\n",
       "                        <td id=\"T_5238dc2c_e2ee_11ee_bdbb_96000040dfb6row3_col17\" class=\"data row3 col17\" ></td>\n",
       "                        <td id=\"T_5238dc2c_e2ee_11ee_bdbb_96000040dfb6row3_col18\" class=\"data row3 col18\" ></td>\n",
       "            </tr>\n",
       "            <tr>\n",
       "                        <th id=\"T_5238dc2c_e2ee_11ee_bdbb_96000040dfb6level0_row4\" class=\"row_heading level0 row4\" >2017-05</th>\n",
       "                        <td id=\"T_5238dc2c_e2ee_11ee_bdbb_96000040dfb6row4_col0\" class=\"data row4 col0\" >100.00%</td>\n",
       "                        <td id=\"T_5238dc2c_e2ee_11ee_bdbb_96000040dfb6row4_col1\" class=\"data row4 col1\" >0.54%</td>\n",
       "                        <td id=\"T_5238dc2c_e2ee_11ee_bdbb_96000040dfb6row4_col2\" class=\"data row4 col2\" >0.48%</td>\n",
       "                        <td id=\"T_5238dc2c_e2ee_11ee_bdbb_96000040dfb6row4_col3\" class=\"data row4 col3\" >0.40%</td>\n",
       "                        <td id=\"T_5238dc2c_e2ee_11ee_bdbb_96000040dfb6row4_col4\" class=\"data row4 col4\" >0.31%</td>\n",
       "                        <td id=\"T_5238dc2c_e2ee_11ee_bdbb_96000040dfb6row4_col5\" class=\"data row4 col5\" >0.34%</td>\n",
       "                        <td id=\"T_5238dc2c_e2ee_11ee_bdbb_96000040dfb6row4_col6\" class=\"data row4 col6\" >0.42%</td>\n",
       "                        <td id=\"T_5238dc2c_e2ee_11ee_bdbb_96000040dfb6row4_col7\" class=\"data row4 col7\" >0.14%</td>\n",
       "                        <td id=\"T_5238dc2c_e2ee_11ee_bdbb_96000040dfb6row4_col8\" class=\"data row4 col8\" >0.25%</td>\n",
       "                        <td id=\"T_5238dc2c_e2ee_11ee_bdbb_96000040dfb6row4_col9\" class=\"data row4 col9\" >0.25%</td>\n",
       "                        <td id=\"T_5238dc2c_e2ee_11ee_bdbb_96000040dfb6row4_col10\" class=\"data row4 col10\" >0.28%</td>\n",
       "                        <td id=\"T_5238dc2c_e2ee_11ee_bdbb_96000040dfb6row4_col11\" class=\"data row4 col11\" >0.34%</td>\n",
       "                        <td id=\"T_5238dc2c_e2ee_11ee_bdbb_96000040dfb6row4_col12\" class=\"data row4 col12\" >0.20%</td>\n",
       "                        <td id=\"T_5238dc2c_e2ee_11ee_bdbb_96000040dfb6row4_col13\" class=\"data row4 col13\" >0.06%</td>\n",
       "                        <td id=\"T_5238dc2c_e2ee_11ee_bdbb_96000040dfb6row4_col14\" class=\"data row4 col14\" >0.20%</td>\n",
       "                        <td id=\"T_5238dc2c_e2ee_11ee_bdbb_96000040dfb6row4_col15\" class=\"data row4 col15\" >0.23%</td>\n",
       "                        <td id=\"T_5238dc2c_e2ee_11ee_bdbb_96000040dfb6row4_col16\" class=\"data row4 col16\" ></td>\n",
       "                        <td id=\"T_5238dc2c_e2ee_11ee_bdbb_96000040dfb6row4_col17\" class=\"data row4 col17\" ></td>\n",
       "                        <td id=\"T_5238dc2c_e2ee_11ee_bdbb_96000040dfb6row4_col18\" class=\"data row4 col18\" ></td>\n",
       "            </tr>\n",
       "            <tr>\n",
       "                        <th id=\"T_5238dc2c_e2ee_11ee_bdbb_96000040dfb6level0_row5\" class=\"row_heading level0 row5\" >2017-06</th>\n",
       "                        <td id=\"T_5238dc2c_e2ee_11ee_bdbb_96000040dfb6row5_col0\" class=\"data row5 col0\" >100.00%</td>\n",
       "                        <td id=\"T_5238dc2c_e2ee_11ee_bdbb_96000040dfb6row5_col1\" class=\"data row5 col1\" >0.45%</td>\n",
       "                        <td id=\"T_5238dc2c_e2ee_11ee_bdbb_96000040dfb6row5_col2\" class=\"data row5 col2\" >0.35%</td>\n",
       "                        <td id=\"T_5238dc2c_e2ee_11ee_bdbb_96000040dfb6row5_col3\" class=\"data row5 col3\" >0.39%</td>\n",
       "                        <td id=\"T_5238dc2c_e2ee_11ee_bdbb_96000040dfb6row5_col4\" class=\"data row5 col4\" >0.26%</td>\n",
       "                        <td id=\"T_5238dc2c_e2ee_11ee_bdbb_96000040dfb6row5_col5\" class=\"data row5 col5\" >0.35%</td>\n",
       "                        <td id=\"T_5238dc2c_e2ee_11ee_bdbb_96000040dfb6row5_col6\" class=\"data row5 col6\" >0.35%</td>\n",
       "                        <td id=\"T_5238dc2c_e2ee_11ee_bdbb_96000040dfb6row5_col7\" class=\"data row5 col7\" >0.23%</td>\n",
       "                        <td id=\"T_5238dc2c_e2ee_11ee_bdbb_96000040dfb6row5_col8\" class=\"data row5 col8\" >0.13%</td>\n",
       "                        <td id=\"T_5238dc2c_e2ee_11ee_bdbb_96000040dfb6row5_col9\" class=\"data row5 col9\" >0.23%</td>\n",
       "                        <td id=\"T_5238dc2c_e2ee_11ee_bdbb_96000040dfb6row5_col10\" class=\"data row5 col10\" >0.32%</td>\n",
       "                        <td id=\"T_5238dc2c_e2ee_11ee_bdbb_96000040dfb6row5_col11\" class=\"data row5 col11\" >0.35%</td>\n",
       "                        <td id=\"T_5238dc2c_e2ee_11ee_bdbb_96000040dfb6row5_col12\" class=\"data row5 col12\" >0.16%</td>\n",
       "                        <td id=\"T_5238dc2c_e2ee_11ee_bdbb_96000040dfb6row5_col13\" class=\"data row5 col13\" >0.13%</td>\n",
       "                        <td id=\"T_5238dc2c_e2ee_11ee_bdbb_96000040dfb6row5_col14\" class=\"data row5 col14\" >0.19%</td>\n",
       "                        <td id=\"T_5238dc2c_e2ee_11ee_bdbb_96000040dfb6row5_col15\" class=\"data row5 col15\" ></td>\n",
       "                        <td id=\"T_5238dc2c_e2ee_11ee_bdbb_96000040dfb6row5_col16\" class=\"data row5 col16\" ></td>\n",
       "                        <td id=\"T_5238dc2c_e2ee_11ee_bdbb_96000040dfb6row5_col17\" class=\"data row5 col17\" ></td>\n",
       "                        <td id=\"T_5238dc2c_e2ee_11ee_bdbb_96000040dfb6row5_col18\" class=\"data row5 col18\" ></td>\n",
       "            </tr>\n",
       "            <tr>\n",
       "                        <th id=\"T_5238dc2c_e2ee_11ee_bdbb_96000040dfb6level0_row6\" class=\"row_heading level0 row6\" >2017-07</th>\n",
       "                        <td id=\"T_5238dc2c_e2ee_11ee_bdbb_96000040dfb6row6_col0\" class=\"data row6 col0\" >100.00%</td>\n",
       "                        <td id=\"T_5238dc2c_e2ee_11ee_bdbb_96000040dfb6row6_col1\" class=\"data row6 col1\" >0.53%</td>\n",
       "                        <td id=\"T_5238dc2c_e2ee_11ee_bdbb_96000040dfb6row6_col2\" class=\"data row6 col2\" >0.32%</td>\n",
       "                        <td id=\"T_5238dc2c_e2ee_11ee_bdbb_96000040dfb6row6_col3\" class=\"data row6 col3\" >0.19%</td>\n",
       "                        <td id=\"T_5238dc2c_e2ee_11ee_bdbb_96000040dfb6row6_col4\" class=\"data row6 col4\" >0.34%</td>\n",
       "                        <td id=\"T_5238dc2c_e2ee_11ee_bdbb_96000040dfb6row6_col5\" class=\"data row6 col5\" >0.19%</td>\n",
       "                        <td id=\"T_5238dc2c_e2ee_11ee_bdbb_96000040dfb6row6_col6\" class=\"data row6 col6\" >0.32%</td>\n",
       "                        <td id=\"T_5238dc2c_e2ee_11ee_bdbb_96000040dfb6row6_col7\" class=\"data row6 col7\" >0.11%</td>\n",
       "                        <td id=\"T_5238dc2c_e2ee_11ee_bdbb_96000040dfb6row6_col8\" class=\"data row6 col8\" >0.19%</td>\n",
       "                        <td id=\"T_5238dc2c_e2ee_11ee_bdbb_96000040dfb6row6_col9\" class=\"data row6 col9\" >0.24%</td>\n",
       "                        <td id=\"T_5238dc2c_e2ee_11ee_bdbb_96000040dfb6row6_col10\" class=\"data row6 col10\" >0.21%</td>\n",
       "                        <td id=\"T_5238dc2c_e2ee_11ee_bdbb_96000040dfb6row6_col11\" class=\"data row6 col11\" >0.29%</td>\n",
       "                        <td id=\"T_5238dc2c_e2ee_11ee_bdbb_96000040dfb6row6_col12\" class=\"data row6 col12\" >0.13%</td>\n",
       "                        <td id=\"T_5238dc2c_e2ee_11ee_bdbb_96000040dfb6row6_col13\" class=\"data row6 col13\" >0.26%</td>\n",
       "                        <td id=\"T_5238dc2c_e2ee_11ee_bdbb_96000040dfb6row6_col14\" class=\"data row6 col14\" ></td>\n",
       "                        <td id=\"T_5238dc2c_e2ee_11ee_bdbb_96000040dfb6row6_col15\" class=\"data row6 col15\" ></td>\n",
       "                        <td id=\"T_5238dc2c_e2ee_11ee_bdbb_96000040dfb6row6_col16\" class=\"data row6 col16\" ></td>\n",
       "                        <td id=\"T_5238dc2c_e2ee_11ee_bdbb_96000040dfb6row6_col17\" class=\"data row6 col17\" ></td>\n",
       "                        <td id=\"T_5238dc2c_e2ee_11ee_bdbb_96000040dfb6row6_col18\" class=\"data row6 col18\" ></td>\n",
       "            </tr>\n",
       "            <tr>\n",
       "                        <th id=\"T_5238dc2c_e2ee_11ee_bdbb_96000040dfb6level0_row7\" class=\"row_heading level0 row7\" >2017-08</th>\n",
       "                        <td id=\"T_5238dc2c_e2ee_11ee_bdbb_96000040dfb6row7_col0\" class=\"data row7 col0\" >100.00%</td>\n",
       "                        <td id=\"T_5238dc2c_e2ee_11ee_bdbb_96000040dfb6row7_col1\" class=\"data row7 col1\" >0.67%</td>\n",
       "                        <td id=\"T_5238dc2c_e2ee_11ee_bdbb_96000040dfb6row7_col2\" class=\"data row7 col2\" >0.36%</td>\n",
       "                        <td id=\"T_5238dc2c_e2ee_11ee_bdbb_96000040dfb6row7_col3\" class=\"data row7 col3\" >0.26%</td>\n",
       "                        <td id=\"T_5238dc2c_e2ee_11ee_bdbb_96000040dfb6row7_col4\" class=\"data row7 col4\" >0.39%</td>\n",
       "                        <td id=\"T_5238dc2c_e2ee_11ee_bdbb_96000040dfb6row7_col5\" class=\"data row7 col5\" >0.53%</td>\n",
       "                        <td id=\"T_5238dc2c_e2ee_11ee_bdbb_96000040dfb6row7_col6\" class=\"data row7 col6\" >0.26%</td>\n",
       "                        <td id=\"T_5238dc2c_e2ee_11ee_bdbb_96000040dfb6row7_col7\" class=\"data row7 col7\" >0.26%</td>\n",
       "                        <td id=\"T_5238dc2c_e2ee_11ee_bdbb_96000040dfb6row7_col8\" class=\"data row7 col8\" >0.12%</td>\n",
       "                        <td id=\"T_5238dc2c_e2ee_11ee_bdbb_96000040dfb6row7_col9\" class=\"data row7 col9\" >0.17%</td>\n",
       "                        <td id=\"T_5238dc2c_e2ee_11ee_bdbb_96000040dfb6row7_col10\" class=\"data row7 col10\" >0.24%</td>\n",
       "                        <td id=\"T_5238dc2c_e2ee_11ee_bdbb_96000040dfb6row7_col11\" class=\"data row7 col11\" >0.17%</td>\n",
       "                        <td id=\"T_5238dc2c_e2ee_11ee_bdbb_96000040dfb6row7_col12\" class=\"data row7 col12\" >0.14%</td>\n",
       "                        <td id=\"T_5238dc2c_e2ee_11ee_bdbb_96000040dfb6row7_col13\" class=\"data row7 col13\" ></td>\n",
       "                        <td id=\"T_5238dc2c_e2ee_11ee_bdbb_96000040dfb6row7_col14\" class=\"data row7 col14\" ></td>\n",
       "                        <td id=\"T_5238dc2c_e2ee_11ee_bdbb_96000040dfb6row7_col15\" class=\"data row7 col15\" ></td>\n",
       "                        <td id=\"T_5238dc2c_e2ee_11ee_bdbb_96000040dfb6row7_col16\" class=\"data row7 col16\" ></td>\n",
       "                        <td id=\"T_5238dc2c_e2ee_11ee_bdbb_96000040dfb6row7_col17\" class=\"data row7 col17\" ></td>\n",
       "                        <td id=\"T_5238dc2c_e2ee_11ee_bdbb_96000040dfb6row7_col18\" class=\"data row7 col18\" ></td>\n",
       "            </tr>\n",
       "            <tr>\n",
       "                        <th id=\"T_5238dc2c_e2ee_11ee_bdbb_96000040dfb6level0_row8\" class=\"row_heading level0 row8\" >2017-09</th>\n",
       "                        <td id=\"T_5238dc2c_e2ee_11ee_bdbb_96000040dfb6row8_col0\" class=\"data row8 col0\" >100.00%</td>\n",
       "                        <td id=\"T_5238dc2c_e2ee_11ee_bdbb_96000040dfb6row8_col1\" class=\"data row8 col1\" >0.66%</td>\n",
       "                        <td id=\"T_5238dc2c_e2ee_11ee_bdbb_96000040dfb6row8_col2\" class=\"data row8 col2\" >0.49%</td>\n",
       "                        <td id=\"T_5238dc2c_e2ee_11ee_bdbb_96000040dfb6row8_col3\" class=\"data row8 col3\" >0.34%</td>\n",
       "                        <td id=\"T_5238dc2c_e2ee_11ee_bdbb_96000040dfb6row8_col4\" class=\"data row8 col4\" >0.41%</td>\n",
       "                        <td id=\"T_5238dc2c_e2ee_11ee_bdbb_96000040dfb6row8_col5\" class=\"data row8 col5\" >0.27%</td>\n",
       "                        <td id=\"T_5238dc2c_e2ee_11ee_bdbb_96000040dfb6row8_col6\" class=\"data row8 col6\" >0.22%</td>\n",
       "                        <td id=\"T_5238dc2c_e2ee_11ee_bdbb_96000040dfb6row8_col7\" class=\"data row8 col7\" >0.22%</td>\n",
       "                        <td id=\"T_5238dc2c_e2ee_11ee_bdbb_96000040dfb6row8_col8\" class=\"data row8 col8\" >0.32%</td>\n",
       "                        <td id=\"T_5238dc2c_e2ee_11ee_bdbb_96000040dfb6row8_col9\" class=\"data row8 col9\" >0.17%</td>\n",
       "                        <td id=\"T_5238dc2c_e2ee_11ee_bdbb_96000040dfb6row8_col10\" class=\"data row8 col10\" >0.27%</td>\n",
       "                        <td id=\"T_5238dc2c_e2ee_11ee_bdbb_96000040dfb6row8_col11\" class=\"data row8 col11\" >0.07%</td>\n",
       "                        <td id=\"T_5238dc2c_e2ee_11ee_bdbb_96000040dfb6row8_col12\" class=\"data row8 col12\" ></td>\n",
       "                        <td id=\"T_5238dc2c_e2ee_11ee_bdbb_96000040dfb6row8_col13\" class=\"data row8 col13\" ></td>\n",
       "                        <td id=\"T_5238dc2c_e2ee_11ee_bdbb_96000040dfb6row8_col14\" class=\"data row8 col14\" ></td>\n",
       "                        <td id=\"T_5238dc2c_e2ee_11ee_bdbb_96000040dfb6row8_col15\" class=\"data row8 col15\" ></td>\n",
       "                        <td id=\"T_5238dc2c_e2ee_11ee_bdbb_96000040dfb6row8_col16\" class=\"data row8 col16\" ></td>\n",
       "                        <td id=\"T_5238dc2c_e2ee_11ee_bdbb_96000040dfb6row8_col17\" class=\"data row8 col17\" ></td>\n",
       "                        <td id=\"T_5238dc2c_e2ee_11ee_bdbb_96000040dfb6row8_col18\" class=\"data row8 col18\" ></td>\n",
       "            </tr>\n",
       "            <tr>\n",
       "                        <th id=\"T_5238dc2c_e2ee_11ee_bdbb_96000040dfb6level0_row9\" class=\"row_heading level0 row9\" >2017-10</th>\n",
       "                        <td id=\"T_5238dc2c_e2ee_11ee_bdbb_96000040dfb6row9_col0\" class=\"data row9 col0\" >100.00%</td>\n",
       "                        <td id=\"T_5238dc2c_e2ee_11ee_bdbb_96000040dfb6row9_col1\" class=\"data row9 col1\" >0.69%</td>\n",
       "                        <td id=\"T_5238dc2c_e2ee_11ee_bdbb_96000040dfb6row9_col2\" class=\"data row9 col2\" >0.30%</td>\n",
       "                        <td id=\"T_5238dc2c_e2ee_11ee_bdbb_96000040dfb6row9_col3\" class=\"data row9 col3\" >0.09%</td>\n",
       "                        <td id=\"T_5238dc2c_e2ee_11ee_bdbb_96000040dfb6row9_col4\" class=\"data row9 col4\" >0.23%</td>\n",
       "                        <td id=\"T_5238dc2c_e2ee_11ee_bdbb_96000040dfb6row9_col5\" class=\"data row9 col5\" >0.18%</td>\n",
       "                        <td id=\"T_5238dc2c_e2ee_11ee_bdbb_96000040dfb6row9_col6\" class=\"data row9 col6\" >0.25%</td>\n",
       "                        <td id=\"T_5238dc2c_e2ee_11ee_bdbb_96000040dfb6row9_col7\" class=\"data row9 col7\" >0.37%</td>\n",
       "                        <td id=\"T_5238dc2c_e2ee_11ee_bdbb_96000040dfb6row9_col8\" class=\"data row9 col8\" >0.28%</td>\n",
       "                        <td id=\"T_5238dc2c_e2ee_11ee_bdbb_96000040dfb6row9_col9\" class=\"data row9 col9\" >0.21%</td>\n",
       "                        <td id=\"T_5238dc2c_e2ee_11ee_bdbb_96000040dfb6row9_col10\" class=\"data row9 col10\" >0.21%</td>\n",
       "                        <td id=\"T_5238dc2c_e2ee_11ee_bdbb_96000040dfb6row9_col11\" class=\"data row9 col11\" ></td>\n",
       "                        <td id=\"T_5238dc2c_e2ee_11ee_bdbb_96000040dfb6row9_col12\" class=\"data row9 col12\" ></td>\n",
       "                        <td id=\"T_5238dc2c_e2ee_11ee_bdbb_96000040dfb6row9_col13\" class=\"data row9 col13\" ></td>\n",
       "                        <td id=\"T_5238dc2c_e2ee_11ee_bdbb_96000040dfb6row9_col14\" class=\"data row9 col14\" ></td>\n",
       "                        <td id=\"T_5238dc2c_e2ee_11ee_bdbb_96000040dfb6row9_col15\" class=\"data row9 col15\" ></td>\n",
       "                        <td id=\"T_5238dc2c_e2ee_11ee_bdbb_96000040dfb6row9_col16\" class=\"data row9 col16\" ></td>\n",
       "                        <td id=\"T_5238dc2c_e2ee_11ee_bdbb_96000040dfb6row9_col17\" class=\"data row9 col17\" ></td>\n",
       "                        <td id=\"T_5238dc2c_e2ee_11ee_bdbb_96000040dfb6row9_col18\" class=\"data row9 col18\" ></td>\n",
       "            </tr>\n",
       "            <tr>\n",
       "                        <th id=\"T_5238dc2c_e2ee_11ee_bdbb_96000040dfb6level0_row10\" class=\"row_heading level0 row10\" >2017-11</th>\n",
       "                        <td id=\"T_5238dc2c_e2ee_11ee_bdbb_96000040dfb6row10_col0\" class=\"data row10 col0\" >100.00%</td>\n",
       "                        <td id=\"T_5238dc2c_e2ee_11ee_bdbb_96000040dfb6row10_col1\" class=\"data row10 col1\" >0.55%</td>\n",
       "                        <td id=\"T_5238dc2c_e2ee_11ee_bdbb_96000040dfb6row10_col2\" class=\"data row10 col2\" >0.38%</td>\n",
       "                        <td id=\"T_5238dc2c_e2ee_11ee_bdbb_96000040dfb6row10_col3\" class=\"data row10 col3\" >0.16%</td>\n",
       "                        <td id=\"T_5238dc2c_e2ee_11ee_bdbb_96000040dfb6row10_col4\" class=\"data row10 col4\" >0.20%</td>\n",
       "                        <td id=\"T_5238dc2c_e2ee_11ee_bdbb_96000040dfb6row10_col5\" class=\"data row10 col5\" >0.16%</td>\n",
       "                        <td id=\"T_5238dc2c_e2ee_11ee_bdbb_96000040dfb6row10_col6\" class=\"data row10 col6\" >0.13%</td>\n",
       "                        <td id=\"T_5238dc2c_e2ee_11ee_bdbb_96000040dfb6row10_col7\" class=\"data row10 col7\" >0.20%</td>\n",
       "                        <td id=\"T_5238dc2c_e2ee_11ee_bdbb_96000040dfb6row10_col8\" class=\"data row10 col8\" >0.11%</td>\n",
       "                        <td id=\"T_5238dc2c_e2ee_11ee_bdbb_96000040dfb6row10_col9\" class=\"data row10 col9\" >0.07%</td>\n",
       "                        <td id=\"T_5238dc2c_e2ee_11ee_bdbb_96000040dfb6row10_col10\" class=\"data row10 col10\" ></td>\n",
       "                        <td id=\"T_5238dc2c_e2ee_11ee_bdbb_96000040dfb6row10_col11\" class=\"data row10 col11\" ></td>\n",
       "                        <td id=\"T_5238dc2c_e2ee_11ee_bdbb_96000040dfb6row10_col12\" class=\"data row10 col12\" ></td>\n",
       "                        <td id=\"T_5238dc2c_e2ee_11ee_bdbb_96000040dfb6row10_col13\" class=\"data row10 col13\" ></td>\n",
       "                        <td id=\"T_5238dc2c_e2ee_11ee_bdbb_96000040dfb6row10_col14\" class=\"data row10 col14\" ></td>\n",
       "                        <td id=\"T_5238dc2c_e2ee_11ee_bdbb_96000040dfb6row10_col15\" class=\"data row10 col15\" ></td>\n",
       "                        <td id=\"T_5238dc2c_e2ee_11ee_bdbb_96000040dfb6row10_col16\" class=\"data row10 col16\" ></td>\n",
       "                        <td id=\"T_5238dc2c_e2ee_11ee_bdbb_96000040dfb6row10_col17\" class=\"data row10 col17\" ></td>\n",
       "                        <td id=\"T_5238dc2c_e2ee_11ee_bdbb_96000040dfb6row10_col18\" class=\"data row10 col18\" ></td>\n",
       "            </tr>\n",
       "            <tr>\n",
       "                        <th id=\"T_5238dc2c_e2ee_11ee_bdbb_96000040dfb6level0_row11\" class=\"row_heading level0 row11\" >2017-12</th>\n",
       "                        <td id=\"T_5238dc2c_e2ee_11ee_bdbb_96000040dfb6row11_col0\" class=\"data row11 col0\" >100.00%</td>\n",
       "                        <td id=\"T_5238dc2c_e2ee_11ee_bdbb_96000040dfb6row11_col1\" class=\"data row11 col1\" >0.23%</td>\n",
       "                        <td id=\"T_5238dc2c_e2ee_11ee_bdbb_96000040dfb6row11_col2\" class=\"data row11 col2\" >0.27%</td>\n",
       "                        <td id=\"T_5238dc2c_e2ee_11ee_bdbb_96000040dfb6row11_col3\" class=\"data row11 col3\" >0.32%</td>\n",
       "                        <td id=\"T_5238dc2c_e2ee_11ee_bdbb_96000040dfb6row11_col4\" class=\"data row11 col4\" >0.23%</td>\n",
       "                        <td id=\"T_5238dc2c_e2ee_11ee_bdbb_96000040dfb6row11_col5\" class=\"data row11 col5\" >0.20%</td>\n",
       "                        <td id=\"T_5238dc2c_e2ee_11ee_bdbb_96000040dfb6row11_col6\" class=\"data row11 col6\" >0.16%</td>\n",
       "                        <td id=\"T_5238dc2c_e2ee_11ee_bdbb_96000040dfb6row11_col7\" class=\"data row11 col7\" >0.02%</td>\n",
       "                        <td id=\"T_5238dc2c_e2ee_11ee_bdbb_96000040dfb6row11_col8\" class=\"data row11 col8\" >0.21%</td>\n",
       "                        <td id=\"T_5238dc2c_e2ee_11ee_bdbb_96000040dfb6row11_col9\" class=\"data row11 col9\" ></td>\n",
       "                        <td id=\"T_5238dc2c_e2ee_11ee_bdbb_96000040dfb6row11_col10\" class=\"data row11 col10\" ></td>\n",
       "                        <td id=\"T_5238dc2c_e2ee_11ee_bdbb_96000040dfb6row11_col11\" class=\"data row11 col11\" ></td>\n",
       "                        <td id=\"T_5238dc2c_e2ee_11ee_bdbb_96000040dfb6row11_col12\" class=\"data row11 col12\" ></td>\n",
       "                        <td id=\"T_5238dc2c_e2ee_11ee_bdbb_96000040dfb6row11_col13\" class=\"data row11 col13\" ></td>\n",
       "                        <td id=\"T_5238dc2c_e2ee_11ee_bdbb_96000040dfb6row11_col14\" class=\"data row11 col14\" ></td>\n",
       "                        <td id=\"T_5238dc2c_e2ee_11ee_bdbb_96000040dfb6row11_col15\" class=\"data row11 col15\" ></td>\n",
       "                        <td id=\"T_5238dc2c_e2ee_11ee_bdbb_96000040dfb6row11_col16\" class=\"data row11 col16\" ></td>\n",
       "                        <td id=\"T_5238dc2c_e2ee_11ee_bdbb_96000040dfb6row11_col17\" class=\"data row11 col17\" ></td>\n",
       "                        <td id=\"T_5238dc2c_e2ee_11ee_bdbb_96000040dfb6row11_col18\" class=\"data row11 col18\" ></td>\n",
       "            </tr>\n",
       "    </tbody></table>"
      ],
      "text/plain": [
       "<pandas.io.formats.style.Styler at 0x7f6ec3cfa0f0>"
      ]
     },
     "execution_count": 54,
     "metadata": {},
     "output_type": "execute_result"
    }
   ],
   "source": [
    "ur_style = (retention_pivot\n",
    "            .style\n",
    "            .set_caption('retention')  # добавляем подпись\n",
    "            .background_gradient(cmap='viridis')  # раскрашиваем ячейки по столбцам\n",
    "            .highlight_null('black')  # делаем белый фон для значений NaN\n",
    "            .format(\"{:.2%}\", na_rep=\"\"))  # числа форматируем как проценты, NaN заменяем на пустоту\n",
    "ur_style"
   ]
  },
  {
   "cell_type": "markdown",
   "metadata": {},
   "source": [
    "#### ИТОГ:  2017-09 - 0.49%"
   ]
  },
  {
   "cell_type": "markdown",
   "metadata": {},
   "source": [
    "# ---------------------------------------------------------------------------------------------------------------"
   ]
  },
  {
   "cell_type": "markdown",
   "metadata": {},
   "source": [
    "## 6. Построй RFM-сегментацию пользователей. В кластеризации можешь выбрать следующие метрики: R - время от последней покупки пользователя до текущей даты, F - суммарное количество покупок у пользователя за всё время, M - сумма покупок за всё время. Подробно опиши, как ты создавал кластеры. Для каждого RFM-сегмента построй границы метрик recency, frequency и monetary для интерпретации этих кластеров. "
   ]
  },
  {
   "cell_type": "markdown",
   "metadata": {},
   "source": [
    "Для этого надо объединить все таблицы"
   ]
  },
  {
   "cell_type": "code",
   "execution_count": 55,
   "metadata": {},
   "outputs": [],
   "source": [
    "# Объединение всех таблиц\n",
    "merged_data = pd.merge(df_customers, df_orders, on='customer_id')\n",
    "merged_data = pd.merge(merged_data, df_items, on='order_id')"
   ]
  },
  {
   "cell_type": "code",
   "execution_count": 56,
   "metadata": {},
   "outputs": [],
   "source": [
    "# Фильтрация данных с нужными нам статусами и проверкой наличия подтверждения оплаты\n",
    "filtering = merged_data.query(\"order_status!=['canceled', 'unavailable', 'created'] & order_approved_at!=''\")"
   ]
  },
  {
   "cell_type": "code",
   "execution_count": 57,
   "metadata": {},
   "outputs": [
    {
     "name": "stderr",
     "output_type": "stream",
     "text": [
      "/opt/tljh/user/lib/python3.7/site-packages/ipykernel_launcher.py:2: SettingWithCopyWarning: \n",
      "A value is trying to be set on a copy of a slice from a DataFrame.\n",
      "Try using .loc[row_indexer,col_indexer] = value instead\n",
      "\n",
      "See the caveats in the documentation: https://pandas.pydata.org/pandas-docs/stable/user_guide/indexing.html#returning-a-view-versus-a-copy\n",
      "  \n"
     ]
    }
   ],
   "source": [
    "# R-разница между последней покупкой и текущей датой\n",
    "filtering['recency'] = (filtering['order_approved_at'].max() - filtering['order_approved_at']).dt.days"
   ]
  },
  {
   "cell_type": "code",
   "execution_count": 58,
   "metadata": {},
   "outputs": [],
   "source": [
    "# F-количество уникальных заказов для каждого пользователя\n",
    "frequency_data = filtering\\\n",
    "    .groupby('customer_unique_id', as_index=False)\\\n",
    "    .agg({'order_id': 'nunique'})\n",
    "frequency_data.rename(columns={'order_id': 'frequency'}, inplace=True)\n",
    "filtering = filtering.merge(frequency_data, on='customer_unique_id')"
   ]
  },
  {
   "cell_type": "code",
   "execution_count": 59,
   "metadata": {},
   "outputs": [],
   "source": [
    "# M-общая сумма покупок для каждого пользователя\n",
    "monetary_data = merged_data\\\n",
    "    .groupby('customer_unique_id', as_index=False)\\\n",
    "    .agg({'price': 'sum'})\n",
    "monetary_data.rename(columns={'price': 'monetary'}, inplace=True)\n",
    "filtering = filtering.merge(monetary_data, on='customer_unique_id')"
   ]
  },
  {
   "cell_type": "code",
   "execution_count": 60,
   "metadata": {},
   "outputs": [
    {
     "data": {
      "text/plain": [
       "0"
      ]
     },
     "execution_count": 60,
     "metadata": {},
     "output_type": "execute_result"
    }
   ],
   "source": [
    "# Проверка на дубликаты \n",
    "filtering.duplicated().sum()"
   ]
  },
  {
   "cell_type": "code",
   "execution_count": 61,
   "metadata": {},
   "outputs": [],
   "source": [
    "# Отбираем нужные столбы \n",
    "rfm = filtering[['customer_unique_id', 'recency', 'frequency', 'monetary']]"
   ]
  },
  {
   "cell_type": "code",
   "execution_count": 62,
   "metadata": {},
   "outputs": [
    {
     "data": {
      "text/plain": [
       "{'recency': {0.2: 102.0, 0.4: 184.0, 0.6: 275.0, 0.8: 389.0},\n",
       " 'frequency': {0.2: 1.0, 0.4: 1.0, 0.6: 1.0, 0.8: 1.0},\n",
       " 'monetary': {0.2: 43.89, 0.4: 77.5, 0.6: 119.99, 0.8: 201.0}}"
      ]
     },
     "execution_count": 62,
     "metadata": {},
     "output_type": "execute_result"
    }
   ],
   "source": [
    "# Сначала я получаю квинтили для каждого параметра\n",
    "quintiles  = rfm[['recency', 'frequency', 'monetary']].quantile([.2, .4, .6, .8]).to_dict()\n",
    "quintiles"
   ]
  },
  {
   "cell_type": "code",
   "execution_count": 63,
   "metadata": {},
   "outputs": [],
   "source": [
    "def r_score(x):\n",
    "    if x <= quintiles['recency'][.2]:\n",
    "        return 5\n",
    "    elif x <= quintiles['recency'][.4]:\n",
    "        return 4\n",
    "    elif x <= quintiles['recency'][.6]:\n",
    "        return 3\n",
    "    elif x <= quintiles['recency'][.8]:\n",
    "        return 2\n",
    "    else:\n",
    "        return 1\n",
    "\n",
    "def fm_score(x, c):\n",
    "    if x <= quintiles[c][.2]:\n",
    "        return 1\n",
    "    elif x <= quintiles[c][.4]:\n",
    "        return 2\n",
    "    elif x <= quintiles[c][.6]:\n",
    "        return 3\n",
    "    elif x <= quintiles[c][.8]:\n",
    "        return 4\n",
    "    else:\n",
    "        return 5    "
   ]
  },
  {
   "cell_type": "code",
   "execution_count": 64,
   "metadata": {},
   "outputs": [
    {
     "name": "stderr",
     "output_type": "stream",
     "text": [
      "/opt/tljh/user/lib/python3.7/site-packages/ipykernel_launcher.py:2: SettingWithCopyWarning: \n",
      "A value is trying to be set on a copy of a slice from a DataFrame.\n",
      "Try using .loc[row_indexer,col_indexer] = value instead\n",
      "\n",
      "See the caveats in the documentation: https://pandas.pydata.org/pandas-docs/stable/user_guide/indexing.html#returning-a-view-versus-a-copy\n",
      "  \n",
      "/opt/tljh/user/lib/python3.7/site-packages/ipykernel_launcher.py:3: SettingWithCopyWarning: \n",
      "A value is trying to be set on a copy of a slice from a DataFrame.\n",
      "Try using .loc[row_indexer,col_indexer] = value instead\n",
      "\n",
      "See the caveats in the documentation: https://pandas.pydata.org/pandas-docs/stable/user_guide/indexing.html#returning-a-view-versus-a-copy\n",
      "  This is separate from the ipykernel package so we can avoid doing imports until\n",
      "/opt/tljh/user/lib/python3.7/site-packages/ipykernel_launcher.py:4: SettingWithCopyWarning: \n",
      "A value is trying to be set on a copy of a slice from a DataFrame.\n",
      "Try using .loc[row_indexer,col_indexer] = value instead\n",
      "\n",
      "See the caveats in the documentation: https://pandas.pydata.org/pandas-docs/stable/user_guide/indexing.html#returning-a-view-versus-a-copy\n",
      "  after removing the cwd from sys.path.\n"
     ]
    }
   ],
   "source": [
    "# Теперь я готов получить оценки R, F и M каждого клиента\n",
    "rfm['R'] = rfm['recency'].apply(lambda x: r_score(x))\n",
    "rfm['F'] = rfm['frequency'].apply(lambda x: fm_score(x, 'frequency'))\n",
    "rfm['M'] = rfm['monetary'].apply(lambda x: fm_score(x, 'monetary'))"
   ]
  },
  {
   "cell_type": "code",
   "execution_count": 65,
   "metadata": {},
   "outputs": [
    {
     "name": "stderr",
     "output_type": "stream",
     "text": [
      "/opt/tljh/user/lib/python3.7/site-packages/ipykernel_launcher.py:2: SettingWithCopyWarning: \n",
      "A value is trying to be set on a copy of a slice from a DataFrame.\n",
      "Try using .loc[row_indexer,col_indexer] = value instead\n",
      "\n",
      "See the caveats in the documentation: https://pandas.pydata.org/pandas-docs/stable/user_guide/indexing.html#returning-a-view-versus-a-copy\n",
      "  \n"
     ]
    },
    {
     "data": {
      "text/html": [
       "<div>\n",
       "<style scoped>\n",
       "    .dataframe tbody tr th:only-of-type {\n",
       "        vertical-align: middle;\n",
       "    }\n",
       "\n",
       "    .dataframe tbody tr th {\n",
       "        vertical-align: top;\n",
       "    }\n",
       "\n",
       "    .dataframe thead th {\n",
       "        text-align: right;\n",
       "    }\n",
       "</style>\n",
       "<table border=\"1\" class=\"dataframe\">\n",
       "  <thead>\n",
       "    <tr style=\"text-align: right;\">\n",
       "      <th></th>\n",
       "      <th>customer_unique_id</th>\n",
       "      <th>recency</th>\n",
       "      <th>frequency</th>\n",
       "      <th>monetary</th>\n",
       "      <th>R</th>\n",
       "      <th>F</th>\n",
       "      <th>M</th>\n",
       "      <th>RFM Score</th>\n",
       "    </tr>\n",
       "  </thead>\n",
       "  <tbody>\n",
       "    <tr>\n",
       "      <th>0</th>\n",
       "      <td>861eff4711a542e4b93843c6dd7febb0</td>\n",
       "      <td>475</td>\n",
       "      <td>1</td>\n",
       "      <td>124.99</td>\n",
       "      <td>1</td>\n",
       "      <td>1</td>\n",
       "      <td>4</td>\n",
       "      <td>114</td>\n",
       "    </tr>\n",
       "    <tr>\n",
       "      <th>1</th>\n",
       "      <td>290c77bc529b7ac935b93aa66c333dc3</td>\n",
       "      <td>233</td>\n",
       "      <td>1</td>\n",
       "      <td>289.00</td>\n",
       "      <td>3</td>\n",
       "      <td>1</td>\n",
       "      <td>5</td>\n",
       "      <td>315</td>\n",
       "    </tr>\n",
       "    <tr>\n",
       "      <th>2</th>\n",
       "      <td>060e732b5b29e8181a18229c7b0b2b5e</td>\n",
       "      <td>106</td>\n",
       "      <td>1</td>\n",
       "      <td>139.94</td>\n",
       "      <td>4</td>\n",
       "      <td>1</td>\n",
       "      <td>4</td>\n",
       "      <td>414</td>\n",
       "    </tr>\n",
       "    <tr>\n",
       "      <th>3</th>\n",
       "      <td>259dac757896d24d7702b9acbbff3f3c</td>\n",
       "      <td>174</td>\n",
       "      <td>1</td>\n",
       "      <td>149.94</td>\n",
       "      <td>4</td>\n",
       "      <td>1</td>\n",
       "      <td>4</td>\n",
       "      <td>414</td>\n",
       "    </tr>\n",
       "    <tr>\n",
       "      <th>4</th>\n",
       "      <td>345ecd01c38d18a9036ed96c73b8d066</td>\n",
       "      <td>36</td>\n",
       "      <td>1</td>\n",
       "      <td>230.00</td>\n",
       "      <td>5</td>\n",
       "      <td>1</td>\n",
       "      <td>5</td>\n",
       "      <td>515</td>\n",
       "    </tr>\n",
       "  </tbody>\n",
       "</table>\n",
       "</div>"
      ],
      "text/plain": [
       "                 customer_unique_id  recency  frequency  monetary  R  F  M  \\\n",
       "0  861eff4711a542e4b93843c6dd7febb0      475          1    124.99  1  1  4   \n",
       "1  290c77bc529b7ac935b93aa66c333dc3      233          1    289.00  3  1  5   \n",
       "2  060e732b5b29e8181a18229c7b0b2b5e      106          1    139.94  4  1  4   \n",
       "3  259dac757896d24d7702b9acbbff3f3c      174          1    149.94  4  1  4   \n",
       "4  345ecd01c38d18a9036ed96c73b8d066       36          1    230.00  5  1  5   \n",
       "\n",
       "  RFM Score  \n",
       "0       114  \n",
       "1       315  \n",
       "2       414  \n",
       "3       414  \n",
       "4       515  "
      ]
     },
     "execution_count": 65,
     "metadata": {},
     "output_type": "execute_result"
    }
   ],
   "source": [
    "# объединяю оценки R, F и M в один балл RFM Score\n",
    "rfm['RFM Score'] = rfm['R'].map(str) +rfm['F'].map(str) + rfm['M'].map(str)\n",
    "rfm.head()"
   ]
  },
  {
   "cell_type": "code",
   "execution_count": 66,
   "metadata": {},
   "outputs": [
    {
     "name": "stderr",
     "output_type": "stream",
     "text": [
      "/opt/tljh/user/lib/python3.7/site-packages/ipykernel_launcher.py:14: SettingWithCopyWarning: \n",
      "A value is trying to be set on a copy of a slice from a DataFrame.\n",
      "Try using .loc[row_indexer,col_indexer] = value instead\n",
      "\n",
      "See the caveats in the documentation: https://pandas.pydata.org/pandas-docs/stable/user_guide/indexing.html#returning-a-view-versus-a-copy\n",
      "  \n",
      "/opt/tljh/user/lib/python3.7/site-packages/ipykernel_launcher.py:15: SettingWithCopyWarning: \n",
      "A value is trying to be set on a copy of a slice from a DataFrame.\n",
      "Try using .loc[row_indexer,col_indexer] = value instead\n",
      "\n",
      "See the caveats in the documentation: https://pandas.pydata.org/pandas-docs/stable/user_guide/indexing.html#returning-a-view-versus-a-copy\n",
      "  from ipykernel import kernelapp as app\n"
     ]
    },
    {
     "data": {
      "text/plain": [
       "hibernating        41326\n",
       "new customers      21430\n",
       "promising          21094\n",
       "about to sleep     20814\n",
       "can't loose         3424\n",
       "loyal customers     2875\n",
       "champions           1123\n",
       "Name: Segment, dtype: int64"
      ]
     },
     "execution_count": 66,
     "metadata": {},
     "output_type": "execute_result"
    }
   ],
   "source": [
    "segt_map = {\n",
    "    r'[1-2][1-2]': 'hibernating',\n",
    "    r'[1-2][3-4]': 'at risk',\n",
    "    r'[1-2]5': 'can\\'t loose',\n",
    "    r'3[1-2]': 'about to sleep',\n",
    "    r'33': 'need attention',\n",
    "    r'[3-4][4-5]': 'loyal customers',\n",
    "    r'41': 'promising',\n",
    "    r'51': 'new customers',\n",
    "    r'[4-5][2-3]': 'potential loyalists',\n",
    "    r'5[4-5]': 'champions'\n",
    "}\n",
    "\n",
    "rfm['Segment'] = rfm['R'].map(str) + rfm['F'].map(str)\n",
    "rfm['Segment'] = rfm['Segment'].replace(segt_map, regex=True)\n",
    "rfm.Segment.value_counts()"
   ]
  },
  {
   "cell_type": "markdown",
   "metadata": {},
   "source": [
    "#### ИТОГ:  "
   ]
  },
  {
   "cell_type": "code",
   "execution_count": 67,
   "metadata": {},
   "outputs": [
    {
     "data": {
      "image/png": "[encoded data removed]",
      "text/plain": [
       "<Figure size 720x288 with 2 Axes>"
      ]
     },
     "metadata": {
      "needs_background": "light"
     },
     "output_type": "display_data"
    },
    {
     "data": {
      "image/png": "[encoded data removed]",
      "text/plain": [
       "<Figure size 720x720 with 25 Axes>"
      ]
     },
     "metadata": {
      "needs_background": "light"
     },
     "output_type": "display_data"
    }
   ],
   "source": [
    "# Визуализируйте сегменты наших клиентов\n",
    "fig, axes = plt.subplots(nrows=1, ncols=2, figsize=(10, 4))\n",
    "\n",
    "for i, p in enumerate(['R', 'F']):\n",
    "    parameters = {'R':'Recency', 'F':'Frequency'}\n",
    "    y = rfm[p].value_counts().sort_index()\n",
    "    x = y.index\n",
    "    ax = axes[i]\n",
    "    bars = ax.bar(x, y, color='silver')\n",
    "    ax.set_frame_on(False)\n",
    "    ax.tick_params(left=False, labelleft=False, bottom=False)\n",
    "    ax.set_title('Distribution of {}'.format(parameters[p]),\n",
    "                fontsize=14)\n",
    "    for bar in bars:\n",
    "        value = bar.get_height()\n",
    "        if value == y.max():\n",
    "            bar.set_color('firebrick')\n",
    "        ax.text(bar.get_x() + bar.get_width() / 2,\n",
    "                value - 5,\n",
    "                '{}\\n({}%)'.format(int(value), int(value * 100 / y.sum())),\n",
    "               ha='center',\n",
    "               va='top',\n",
    "               color='w')\n",
    "\n",
    "plt.show()\n",
    "\n",
    "# plot the distribution of M for RF score\n",
    "fig, axes = plt.subplots(nrows=5, ncols=5,\n",
    "                         sharex=False, sharey=True,\n",
    "                         figsize=(10, 10))\n",
    "\n",
    "r_range = range(1, 6)\n",
    "f_range = range(1, 6)\n",
    "for r in r_range:\n",
    "    for f in f_range:\n",
    "        y = rfm[(rfm['R'] == r) & (rfm['F'] == f)]['M'].value_counts().sort_index()\n",
    "        x = y.index\n",
    "        ax = axes[r - 1, f - 1]\n",
    "        bars = ax.bar(x, y, color='silver')\n",
    "        if r == 5:\n",
    "            if f == 3:\n",
    "                ax.set_xlabel('{}\\nF'.format(f), va='top')\n",
    "            else:\n",
    "                ax.set_xlabel('{}\\n'.format(f), va='top')\n",
    "        if f == 1:\n",
    "            if r == 3:\n",
    "                ax.set_ylabel('R\\n{}'.format(r))\n",
    "            else:\n",
    "                ax.set_ylabel(r)\n",
    "        ax.set_frame_on(False)\n",
    "        ax.tick_params(left=False, labelleft=False, bottom=False)\n",
    "        ax.set_xticks(x)\n",
    "        ax.set_xticklabels(x, fontsize=8)\n",
    "\n",
    "        for bar in bars:\n",
    "            value = bar.get_height()\n",
    "            if value == y.max():\n",
    "                bar.set_color('firebrick')\n",
    "            ax.text(bar.get_x() + bar.get_width() / 2,\n",
    "                    value,\n",
    "                    int(value),\n",
    "                    ha='center',\n",
    "                    va='bottom',\n",
    "                    color='k')\n",
    "fig.suptitle('Distribution of M for each F and R',\n",
    "             fontsize=14)\n",
    "plt.tight_layout()\n",
    "plt.show()"
   ]
  },
  {
   "cell_type": "code",
   "execution_count": null,
   "metadata": {},
   "outputs": [],
   "source": []
  }
 ],
 "metadata": {
  "kernelspec": {
   "display_name": "Python 3",
   "language": "python",
   "name": "python3"
  },
  "language_info": {
   "codemirror_mode": {
    "name": "ipython",
    "version": 3
   },
   "file_extension": ".py",
   "mimetype": "text/x-python",
   "name": "python",
   "nbconvert_exporter": "python",
   "pygments_lexer": "ipython3",
   "version": "3.7.3"
  }
 },
 "nbformat": 4,
 "nbformat_minor": 4
}
